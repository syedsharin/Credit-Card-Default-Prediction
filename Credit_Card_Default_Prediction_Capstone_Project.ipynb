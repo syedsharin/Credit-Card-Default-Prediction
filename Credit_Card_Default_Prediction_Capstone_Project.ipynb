{
  "nbformat": 4,
  "nbformat_minor": 0,
  "metadata": {
    "kernelspec": {
      "display_name": "Python 3",
      "language": "python",
      "name": "python3"
    },
    "language_info": {
      "codemirror_mode": {
        "name": "ipython",
        "version": 3
      },
      "file_extension": ".py",
      "mimetype": "text/x-python",
      "name": "python",
      "nbconvert_exporter": "python",
      "pygments_lexer": "ipython3",
      "version": "3.6.6"
    },
    "colab": {
      "name": "Credit Card Default Prediction - Capstone Project.ipynb",
      "provenance": [],
      "collapsed_sections": [],
      "include_colab_link": true
    }
  },
  "cells": [
    {
      "cell_type": "markdown",
      "metadata": {
        "id": "view-in-github",
        "colab_type": "text"
      },
      "source": [
        "<a href=\"https://colab.research.google.com/github/syedsharin/Credit-Card-Default-Prediction/blob/main/Credit_Card_Default_Prediction_Capstone_Project.ipynb\" target=\"_parent\"><img src=\"https://colab.research.google.com/assets/colab-badge.svg\" alt=\"Open In Colab\"/></a>"
      ]
    },
    {
      "cell_type": "markdown",
      "metadata": {
        "id": "tOGC-qoyhJeX"
      },
      "source": [
        "# <b><u> Project Title : Predicting whether a customer will default on his/her credit card </u></b>"
      ]
    },
    {
      "cell_type": "markdown",
      "metadata": {
        "id": "Y06xIdG26kRF"
      },
      "source": [
        "## <b> Problem Description </b>\n",
        "\n",
        "### This project is aimed at predicting the case of customers default payments in Taiwan. From the perspective of risk management, the result of predictive accuracy of the estimated probability of default will be more valuable than the binary result of classification - credible or not credible clients. We can use the [K-S chart](https://www.listendata.com/2019/07/KS-Statistics-Python.html) to evaluate which customers will default on their credit card payments\n"
      ]
    },
    {
      "cell_type": "markdown",
      "metadata": {
        "id": "AlLxAtlziMbP"
      },
      "source": [
        "## <b> Data Description </b>\n",
        "\n",
        "### <b>Attribute Information: </b>\n",
        "\n",
        "### This research employed a binary variable, default payment (Yes = 1, No = 0), as the response variable. This study reviewed the literature and used the following 23 variables as explanatory variables:\n",
        "* ### X1: Amount of the given credit (NT dollar): it includes both the individual consumer credit and his/her family (supplementary) credit.\n",
        "* ### X2: Gender (1 = male; 2 = female).\n",
        "* ### X3: Education (1 = graduate school; 2 = university; 3 = high school; 4 = others).\n",
        "* ### X4: Marital status (1 = married; 2 = single; 3 = others).\n",
        "* ### X5: Age (year).\n",
        "* ### X6 - X11: History of past payment. We tracked the past monthly payment records (from April to September, 2005) as follows: X6 = the repayment status in September, 2005; X7 = the repayment status in August, 2005; . . .;X11 = the repayment status in April, 2005. The measurement scale for the repayment status is: -1 = pay duly; 1 = payment delay for one month; 2 = payment delay for two months; . . .; 8 = payment delay for eight months; 9 = payment delay for nine months and above.\n",
        "* ### X12-X17: Amount of bill statement (NT dollar). X12 = amount of bill statement in September, 2005; X13 = amount of bill statement in August, 2005; . . .; X17 = amount of bill statement in April, 2005.\n",
        "* ### X18-X23: Amount of previous payment (NT dollar). X18 = amount paid in September, 2005; X19 = amount paid in August, 2005; . . .;X23 = amount paid in April, 2005."
      ]
    },
    {
      "cell_type": "code",
      "metadata": {
        "id": "dByMsuzT8Tnw"
      },
      "source": [
        "import pandas as pd\n",
        "import numpy as np\n",
        "import matplotlib.pyplot as plt\n",
        "import datetime\n",
        "import seaborn as sns\n"
      ],
      "execution_count": 34,
      "outputs": []
    },
    {
      "cell_type": "code",
      "metadata": {
        "id": "1V3XdkhhT-Dv"
      },
      "source": [
        "data = pd.read_csv(\"https://raw.githubusercontent.com/syedsharin/Credit-Card-Default-Prediction/main/default%20of%20credit%20card%20clients.csv\")"
      ],
      "execution_count": 35,
      "outputs": []
    },
    {
      "cell_type": "code",
      "metadata": {
        "colab": {
          "base_uri": "https://localhost:8080/",
          "height": 295
        },
        "id": "DPjAHWpGUlI2",
        "outputId": "ea87ae15-d9c7-4b9c-a49d-96bae186e1a4"
      },
      "source": [
        "data.head(5)"
      ],
      "execution_count": 36,
      "outputs": [
        {
          "output_type": "execute_result",
          "data": {
            "text/html": [
              "<div>\n",
              "<style scoped>\n",
              "    .dataframe tbody tr th:only-of-type {\n",
              "        vertical-align: middle;\n",
              "    }\n",
              "\n",
              "    .dataframe tbody tr th {\n",
              "        vertical-align: top;\n",
              "    }\n",
              "\n",
              "    .dataframe thead th {\n",
              "        text-align: right;\n",
              "    }\n",
              "</style>\n",
              "<table border=\"1\" class=\"dataframe\">\n",
              "  <thead>\n",
              "    <tr style=\"text-align: right;\">\n",
              "      <th></th>\n",
              "      <th>Unnamed: 0</th>\n",
              "      <th>X1</th>\n",
              "      <th>X2</th>\n",
              "      <th>X3</th>\n",
              "      <th>X4</th>\n",
              "      <th>X5</th>\n",
              "      <th>X6</th>\n",
              "      <th>X7</th>\n",
              "      <th>X8</th>\n",
              "      <th>X9</th>\n",
              "      <th>X10</th>\n",
              "      <th>X11</th>\n",
              "      <th>X12</th>\n",
              "      <th>X13</th>\n",
              "      <th>X14</th>\n",
              "      <th>X15</th>\n",
              "      <th>X16</th>\n",
              "      <th>X17</th>\n",
              "      <th>X18</th>\n",
              "      <th>X19</th>\n",
              "      <th>X20</th>\n",
              "      <th>X21</th>\n",
              "      <th>X22</th>\n",
              "      <th>X23</th>\n",
              "      <th>Y</th>\n",
              "    </tr>\n",
              "  </thead>\n",
              "  <tbody>\n",
              "    <tr>\n",
              "      <th>0</th>\n",
              "      <td>ID</td>\n",
              "      <td>LIMIT_BAL</td>\n",
              "      <td>SEX</td>\n",
              "      <td>EDUCATION</td>\n",
              "      <td>MARRIAGE</td>\n",
              "      <td>AGE</td>\n",
              "      <td>PAY_0</td>\n",
              "      <td>PAY_2</td>\n",
              "      <td>PAY_3</td>\n",
              "      <td>PAY_4</td>\n",
              "      <td>PAY_5</td>\n",
              "      <td>PAY_6</td>\n",
              "      <td>BILL_AMT1</td>\n",
              "      <td>BILL_AMT2</td>\n",
              "      <td>BILL_AMT3</td>\n",
              "      <td>BILL_AMT4</td>\n",
              "      <td>BILL_AMT5</td>\n",
              "      <td>BILL_AMT6</td>\n",
              "      <td>PAY_AMT1</td>\n",
              "      <td>PAY_AMT2</td>\n",
              "      <td>PAY_AMT3</td>\n",
              "      <td>PAY_AMT4</td>\n",
              "      <td>PAY_AMT5</td>\n",
              "      <td>PAY_AMT6</td>\n",
              "      <td>default payment next month</td>\n",
              "    </tr>\n",
              "    <tr>\n",
              "      <th>1</th>\n",
              "      <td>1</td>\n",
              "      <td>20000</td>\n",
              "      <td>2</td>\n",
              "      <td>2</td>\n",
              "      <td>1</td>\n",
              "      <td>24</td>\n",
              "      <td>2</td>\n",
              "      <td>2</td>\n",
              "      <td>-1</td>\n",
              "      <td>-1</td>\n",
              "      <td>-2</td>\n",
              "      <td>-2</td>\n",
              "      <td>3913</td>\n",
              "      <td>3102</td>\n",
              "      <td>689</td>\n",
              "      <td>0</td>\n",
              "      <td>0</td>\n",
              "      <td>0</td>\n",
              "      <td>0</td>\n",
              "      <td>689</td>\n",
              "      <td>0</td>\n",
              "      <td>0</td>\n",
              "      <td>0</td>\n",
              "      <td>0</td>\n",
              "      <td>1</td>\n",
              "    </tr>\n",
              "    <tr>\n",
              "      <th>2</th>\n",
              "      <td>2</td>\n",
              "      <td>120000</td>\n",
              "      <td>2</td>\n",
              "      <td>2</td>\n",
              "      <td>2</td>\n",
              "      <td>26</td>\n",
              "      <td>-1</td>\n",
              "      <td>2</td>\n",
              "      <td>0</td>\n",
              "      <td>0</td>\n",
              "      <td>0</td>\n",
              "      <td>2</td>\n",
              "      <td>2682</td>\n",
              "      <td>1725</td>\n",
              "      <td>2682</td>\n",
              "      <td>3272</td>\n",
              "      <td>3455</td>\n",
              "      <td>3261</td>\n",
              "      <td>0</td>\n",
              "      <td>1000</td>\n",
              "      <td>1000</td>\n",
              "      <td>1000</td>\n",
              "      <td>0</td>\n",
              "      <td>2000</td>\n",
              "      <td>1</td>\n",
              "    </tr>\n",
              "    <tr>\n",
              "      <th>3</th>\n",
              "      <td>3</td>\n",
              "      <td>90000</td>\n",
              "      <td>2</td>\n",
              "      <td>2</td>\n",
              "      <td>2</td>\n",
              "      <td>34</td>\n",
              "      <td>0</td>\n",
              "      <td>0</td>\n",
              "      <td>0</td>\n",
              "      <td>0</td>\n",
              "      <td>0</td>\n",
              "      <td>0</td>\n",
              "      <td>29239</td>\n",
              "      <td>14027</td>\n",
              "      <td>13559</td>\n",
              "      <td>14331</td>\n",
              "      <td>14948</td>\n",
              "      <td>15549</td>\n",
              "      <td>1518</td>\n",
              "      <td>1500</td>\n",
              "      <td>1000</td>\n",
              "      <td>1000</td>\n",
              "      <td>1000</td>\n",
              "      <td>5000</td>\n",
              "      <td>0</td>\n",
              "    </tr>\n",
              "    <tr>\n",
              "      <th>4</th>\n",
              "      <td>4</td>\n",
              "      <td>50000</td>\n",
              "      <td>2</td>\n",
              "      <td>2</td>\n",
              "      <td>1</td>\n",
              "      <td>37</td>\n",
              "      <td>0</td>\n",
              "      <td>0</td>\n",
              "      <td>0</td>\n",
              "      <td>0</td>\n",
              "      <td>0</td>\n",
              "      <td>0</td>\n",
              "      <td>46990</td>\n",
              "      <td>48233</td>\n",
              "      <td>49291</td>\n",
              "      <td>28314</td>\n",
              "      <td>28959</td>\n",
              "      <td>29547</td>\n",
              "      <td>2000</td>\n",
              "      <td>2019</td>\n",
              "      <td>1200</td>\n",
              "      <td>1100</td>\n",
              "      <td>1069</td>\n",
              "      <td>1000</td>\n",
              "      <td>0</td>\n",
              "    </tr>\n",
              "  </tbody>\n",
              "</table>\n",
              "</div>"
            ],
            "text/plain": [
              "  Unnamed: 0         X1   X2  ...       X22       X23                           Y\n",
              "0         ID  LIMIT_BAL  SEX  ...  PAY_AMT5  PAY_AMT6  default payment next month\n",
              "1          1      20000    2  ...         0         0                           1\n",
              "2          2     120000    2  ...         0      2000                           1\n",
              "3          3      90000    2  ...      1000      5000                           0\n",
              "4          4      50000    2  ...      1069      1000                           0\n",
              "\n",
              "[5 rows x 25 columns]"
            ]
          },
          "metadata": {},
          "execution_count": 36
        }
      ]
    },
    {
      "cell_type": "code",
      "metadata": {
        "id": "C_RiI9DJWK1X"
      },
      "source": [
        "data.drop('Unnamed: 0',axis=1,inplace=True)"
      ],
      "execution_count": 37,
      "outputs": []
    },
    {
      "cell_type": "code",
      "metadata": {
        "id": "vkGnzPoIXqPa"
      },
      "source": [
        "df = data.drop(0,axis=0).reset_index(drop=True)"
      ],
      "execution_count": 38,
      "outputs": []
    },
    {
      "cell_type": "code",
      "metadata": {
        "id": "5rtb0F2yV-DY"
      },
      "source": [
        "# Creating list of column names\n",
        "columns = ['Limit_bal','Gender','Education','Marital_status','Age','Repayment_September','Repayment_August','Repayment_July','Repayment_June','Repayment_May',\n",
        "           'Repayment_April','Sep_Bill','Aug_Bill','July_Bill','June_Bill','May_Bill','Apr_Bill','Pay_Sep','Pay_Aug','Pay_July','Pay_June','Pay_May','Pay_April','Defaulter']"
      ],
      "execution_count": 39,
      "outputs": []
    },
    {
      "cell_type": "code",
      "metadata": {
        "id": "HwJVSCppXIQQ"
      },
      "source": [
        "df.set_axis(columns,axis=1,inplace=True)"
      ],
      "execution_count": 40,
      "outputs": []
    },
    {
      "cell_type": "code",
      "metadata": {
        "colab": {
          "base_uri": "https://localhost:8080/",
          "height": 226
        },
        "id": "mOQd8J7XXh0y",
        "outputId": "e0808677-8c52-490f-9635-7c6fa5614f3a"
      },
      "source": [
        "df.head()"
      ],
      "execution_count": 41,
      "outputs": [
        {
          "output_type": "execute_result",
          "data": {
            "text/html": [
              "<div>\n",
              "<style scoped>\n",
              "    .dataframe tbody tr th:only-of-type {\n",
              "        vertical-align: middle;\n",
              "    }\n",
              "\n",
              "    .dataframe tbody tr th {\n",
              "        vertical-align: top;\n",
              "    }\n",
              "\n",
              "    .dataframe thead th {\n",
              "        text-align: right;\n",
              "    }\n",
              "</style>\n",
              "<table border=\"1\" class=\"dataframe\">\n",
              "  <thead>\n",
              "    <tr style=\"text-align: right;\">\n",
              "      <th></th>\n",
              "      <th>Limit_bal</th>\n",
              "      <th>Gender</th>\n",
              "      <th>Education</th>\n",
              "      <th>Marital_status</th>\n",
              "      <th>Age</th>\n",
              "      <th>Repayment_September</th>\n",
              "      <th>Repayment_August</th>\n",
              "      <th>Repayment_July</th>\n",
              "      <th>Repayment_June</th>\n",
              "      <th>Repayment_May</th>\n",
              "      <th>Repayment_April</th>\n",
              "      <th>Sep_Bill</th>\n",
              "      <th>Aug_Bill</th>\n",
              "      <th>July_Bill</th>\n",
              "      <th>June_Bill</th>\n",
              "      <th>May_Bill</th>\n",
              "      <th>Apr_Bill</th>\n",
              "      <th>Pay_Sep</th>\n",
              "      <th>Pay_Aug</th>\n",
              "      <th>Pay_July</th>\n",
              "      <th>Pay_June</th>\n",
              "      <th>Pay_May</th>\n",
              "      <th>Pay_April</th>\n",
              "      <th>Defaulter</th>\n",
              "    </tr>\n",
              "  </thead>\n",
              "  <tbody>\n",
              "    <tr>\n",
              "      <th>0</th>\n",
              "      <td>20000</td>\n",
              "      <td>2</td>\n",
              "      <td>2</td>\n",
              "      <td>1</td>\n",
              "      <td>24</td>\n",
              "      <td>2</td>\n",
              "      <td>2</td>\n",
              "      <td>-1</td>\n",
              "      <td>-1</td>\n",
              "      <td>-2</td>\n",
              "      <td>-2</td>\n",
              "      <td>3913</td>\n",
              "      <td>3102</td>\n",
              "      <td>689</td>\n",
              "      <td>0</td>\n",
              "      <td>0</td>\n",
              "      <td>0</td>\n",
              "      <td>0</td>\n",
              "      <td>689</td>\n",
              "      <td>0</td>\n",
              "      <td>0</td>\n",
              "      <td>0</td>\n",
              "      <td>0</td>\n",
              "      <td>1</td>\n",
              "    </tr>\n",
              "    <tr>\n",
              "      <th>1</th>\n",
              "      <td>120000</td>\n",
              "      <td>2</td>\n",
              "      <td>2</td>\n",
              "      <td>2</td>\n",
              "      <td>26</td>\n",
              "      <td>-1</td>\n",
              "      <td>2</td>\n",
              "      <td>0</td>\n",
              "      <td>0</td>\n",
              "      <td>0</td>\n",
              "      <td>2</td>\n",
              "      <td>2682</td>\n",
              "      <td>1725</td>\n",
              "      <td>2682</td>\n",
              "      <td>3272</td>\n",
              "      <td>3455</td>\n",
              "      <td>3261</td>\n",
              "      <td>0</td>\n",
              "      <td>1000</td>\n",
              "      <td>1000</td>\n",
              "      <td>1000</td>\n",
              "      <td>0</td>\n",
              "      <td>2000</td>\n",
              "      <td>1</td>\n",
              "    </tr>\n",
              "    <tr>\n",
              "      <th>2</th>\n",
              "      <td>90000</td>\n",
              "      <td>2</td>\n",
              "      <td>2</td>\n",
              "      <td>2</td>\n",
              "      <td>34</td>\n",
              "      <td>0</td>\n",
              "      <td>0</td>\n",
              "      <td>0</td>\n",
              "      <td>0</td>\n",
              "      <td>0</td>\n",
              "      <td>0</td>\n",
              "      <td>29239</td>\n",
              "      <td>14027</td>\n",
              "      <td>13559</td>\n",
              "      <td>14331</td>\n",
              "      <td>14948</td>\n",
              "      <td>15549</td>\n",
              "      <td>1518</td>\n",
              "      <td>1500</td>\n",
              "      <td>1000</td>\n",
              "      <td>1000</td>\n",
              "      <td>1000</td>\n",
              "      <td>5000</td>\n",
              "      <td>0</td>\n",
              "    </tr>\n",
              "    <tr>\n",
              "      <th>3</th>\n",
              "      <td>50000</td>\n",
              "      <td>2</td>\n",
              "      <td>2</td>\n",
              "      <td>1</td>\n",
              "      <td>37</td>\n",
              "      <td>0</td>\n",
              "      <td>0</td>\n",
              "      <td>0</td>\n",
              "      <td>0</td>\n",
              "      <td>0</td>\n",
              "      <td>0</td>\n",
              "      <td>46990</td>\n",
              "      <td>48233</td>\n",
              "      <td>49291</td>\n",
              "      <td>28314</td>\n",
              "      <td>28959</td>\n",
              "      <td>29547</td>\n",
              "      <td>2000</td>\n",
              "      <td>2019</td>\n",
              "      <td>1200</td>\n",
              "      <td>1100</td>\n",
              "      <td>1069</td>\n",
              "      <td>1000</td>\n",
              "      <td>0</td>\n",
              "    </tr>\n",
              "    <tr>\n",
              "      <th>4</th>\n",
              "      <td>50000</td>\n",
              "      <td>1</td>\n",
              "      <td>2</td>\n",
              "      <td>1</td>\n",
              "      <td>57</td>\n",
              "      <td>-1</td>\n",
              "      <td>0</td>\n",
              "      <td>-1</td>\n",
              "      <td>0</td>\n",
              "      <td>0</td>\n",
              "      <td>0</td>\n",
              "      <td>8617</td>\n",
              "      <td>5670</td>\n",
              "      <td>35835</td>\n",
              "      <td>20940</td>\n",
              "      <td>19146</td>\n",
              "      <td>19131</td>\n",
              "      <td>2000</td>\n",
              "      <td>36681</td>\n",
              "      <td>10000</td>\n",
              "      <td>9000</td>\n",
              "      <td>689</td>\n",
              "      <td>679</td>\n",
              "      <td>0</td>\n",
              "    </tr>\n",
              "  </tbody>\n",
              "</table>\n",
              "</div>"
            ],
            "text/plain": [
              "  Limit_bal Gender Education  ... Pay_May Pay_April Defaulter\n",
              "0     20000      2         2  ...       0         0         1\n",
              "1    120000      2         2  ...       0      2000         1\n",
              "2     90000      2         2  ...    1000      5000         0\n",
              "3     50000      2         2  ...    1069      1000         0\n",
              "4     50000      1         2  ...     689       679         0\n",
              "\n",
              "[5 rows x 24 columns]"
            ]
          },
          "metadata": {},
          "execution_count": 41
        }
      ]
    },
    {
      "cell_type": "code",
      "metadata": {
        "colab": {
          "base_uri": "https://localhost:8080/"
        },
        "id": "u1kudcGpaFfX",
        "outputId": "60dfd875-fd12-4ea5-b6a3-3275d2717a83"
      },
      "source": [
        "df.shape"
      ],
      "execution_count": 42,
      "outputs": [
        {
          "output_type": "execute_result",
          "data": {
            "text/plain": [
              "(30000, 24)"
            ]
          },
          "metadata": {},
          "execution_count": 42
        }
      ]
    },
    {
      "cell_type": "code",
      "metadata": {
        "colab": {
          "base_uri": "https://localhost:8080/"
        },
        "id": "OyoHTVNxaMHZ",
        "outputId": "0c4466d3-ac2c-43a2-c458-4cf5efe1e3d3"
      },
      "source": [
        "df.duplicated().sum()"
      ],
      "execution_count": 43,
      "outputs": [
        {
          "output_type": "execute_result",
          "data": {
            "text/plain": [
              "35"
            ]
          },
          "metadata": {},
          "execution_count": 43
        }
      ]
    },
    {
      "cell_type": "code",
      "metadata": {
        "id": "3rpQH2RCaXaZ"
      },
      "source": [
        "df.drop_duplicates(inplace=True)"
      ],
      "execution_count": 44,
      "outputs": []
    },
    {
      "cell_type": "code",
      "metadata": {
        "colab": {
          "base_uri": "https://localhost:8080/"
        },
        "id": "cSa8mYmqZTS7",
        "outputId": "e6238dc7-39fd-4e26-9f72-39db80452d7b"
      },
      "source": [
        "df['Defaulter'].value_counts()    #This shows that the data is imbalance with 6636 defaulters out of 29965"
      ],
      "execution_count": 45,
      "outputs": [
        {
          "output_type": "execute_result",
          "data": {
            "text/plain": [
              "0    23335\n",
              "1     6630\n",
              "Name: Defaulter, dtype: int64"
            ]
          },
          "metadata": {},
          "execution_count": 45
        }
      ]
    },
    {
      "cell_type": "code",
      "metadata": {
        "colab": {
          "base_uri": "https://localhost:8080/"
        },
        "id": "UURJf5JLZ_hw",
        "outputId": "4fef6b29-15a0-4b57-fd4a-67cc9703bca0"
      },
      "source": [
        "df.info()"
      ],
      "execution_count": 46,
      "outputs": [
        {
          "output_type": "stream",
          "name": "stdout",
          "text": [
            "<class 'pandas.core.frame.DataFrame'>\n",
            "Int64Index: 29965 entries, 0 to 29999\n",
            "Data columns (total 24 columns):\n",
            " #   Column               Non-Null Count  Dtype \n",
            "---  ------               --------------  ----- \n",
            " 0   Limit_bal            29965 non-null  object\n",
            " 1   Gender               29965 non-null  object\n",
            " 2   Education            29965 non-null  object\n",
            " 3   Marital_status       29965 non-null  object\n",
            " 4   Age                  29965 non-null  object\n",
            " 5   Repayment_September  29965 non-null  object\n",
            " 6   Repayment_August     29965 non-null  object\n",
            " 7   Repayment_July       29965 non-null  object\n",
            " 8   Repayment_June       29965 non-null  object\n",
            " 9   Repayment_May        29965 non-null  object\n",
            " 10  Repayment_April      29965 non-null  object\n",
            " 11  Sep_Bill             29965 non-null  object\n",
            " 12  Aug_Bill             29965 non-null  object\n",
            " 13  July_Bill            29965 non-null  object\n",
            " 14  June_Bill            29965 non-null  object\n",
            " 15  May_Bill             29965 non-null  object\n",
            " 16  Apr_Bill             29965 non-null  object\n",
            " 17  Pay_Sep              29965 non-null  object\n",
            " 18  Pay_Aug              29965 non-null  object\n",
            " 19  Pay_July             29965 non-null  object\n",
            " 20  Pay_June             29965 non-null  object\n",
            " 21  Pay_May              29965 non-null  object\n",
            " 22  Pay_April            29965 non-null  object\n",
            " 23  Defaulter            29965 non-null  object\n",
            "dtypes: object(24)\n",
            "memory usage: 5.7+ MB\n"
          ]
        }
      ]
    },
    {
      "cell_type": "code",
      "metadata": {
        "id": "8klUxli1dGd9"
      },
      "source": [
        ""
      ],
      "execution_count": 15,
      "outputs": []
    },
    {
      "cell_type": "code",
      "metadata": {
        "id": "VVCO1L5La75Y"
      },
      "source": [
        "# After checking the info() converted all the objectes into int\n",
        "for i in df.columns:\n",
        "  df[i]=df[i].astype('int')"
      ],
      "execution_count": 16,
      "outputs": []
    },
    {
      "cell_type": "code",
      "metadata": {
        "colab": {
          "base_uri": "https://localhost:8080/",
          "height": 195
        },
        "id": "6uR19iIWdH3x",
        "outputId": "55d1dfe3-fe3b-4617-c37b-bf0ce5369ade"
      },
      "source": [
        "df.describe()"
      ],
      "execution_count": 47,
      "outputs": [
        {
          "output_type": "execute_result",
          "data": {
            "text/html": [
              "<div>\n",
              "<style scoped>\n",
              "    .dataframe tbody tr th:only-of-type {\n",
              "        vertical-align: middle;\n",
              "    }\n",
              "\n",
              "    .dataframe tbody tr th {\n",
              "        vertical-align: top;\n",
              "    }\n",
              "\n",
              "    .dataframe thead th {\n",
              "        text-align: right;\n",
              "    }\n",
              "</style>\n",
              "<table border=\"1\" class=\"dataframe\">\n",
              "  <thead>\n",
              "    <tr style=\"text-align: right;\">\n",
              "      <th></th>\n",
              "      <th>Limit_bal</th>\n",
              "      <th>Gender</th>\n",
              "      <th>Education</th>\n",
              "      <th>Marital_status</th>\n",
              "      <th>Age</th>\n",
              "      <th>Repayment_September</th>\n",
              "      <th>Repayment_August</th>\n",
              "      <th>Repayment_July</th>\n",
              "      <th>Repayment_June</th>\n",
              "      <th>Repayment_May</th>\n",
              "      <th>Repayment_April</th>\n",
              "      <th>Sep_Bill</th>\n",
              "      <th>Aug_Bill</th>\n",
              "      <th>July_Bill</th>\n",
              "      <th>June_Bill</th>\n",
              "      <th>May_Bill</th>\n",
              "      <th>Apr_Bill</th>\n",
              "      <th>Pay_Sep</th>\n",
              "      <th>Pay_Aug</th>\n",
              "      <th>Pay_July</th>\n",
              "      <th>Pay_June</th>\n",
              "      <th>Pay_May</th>\n",
              "      <th>Pay_April</th>\n",
              "      <th>Defaulter</th>\n",
              "    </tr>\n",
              "  </thead>\n",
              "  <tbody>\n",
              "    <tr>\n",
              "      <th>count</th>\n",
              "      <td>29965</td>\n",
              "      <td>29965</td>\n",
              "      <td>29965</td>\n",
              "      <td>29965</td>\n",
              "      <td>29965</td>\n",
              "      <td>29965</td>\n",
              "      <td>29965</td>\n",
              "      <td>29965</td>\n",
              "      <td>29965</td>\n",
              "      <td>29965</td>\n",
              "      <td>29965</td>\n",
              "      <td>29965</td>\n",
              "      <td>29965</td>\n",
              "      <td>29965</td>\n",
              "      <td>29965</td>\n",
              "      <td>29965</td>\n",
              "      <td>29965</td>\n",
              "      <td>29965</td>\n",
              "      <td>29965</td>\n",
              "      <td>29965</td>\n",
              "      <td>29965</td>\n",
              "      <td>29965</td>\n",
              "      <td>29965</td>\n",
              "      <td>29965</td>\n",
              "    </tr>\n",
              "    <tr>\n",
              "      <th>unique</th>\n",
              "      <td>81</td>\n",
              "      <td>2</td>\n",
              "      <td>7</td>\n",
              "      <td>4</td>\n",
              "      <td>56</td>\n",
              "      <td>11</td>\n",
              "      <td>11</td>\n",
              "      <td>11</td>\n",
              "      <td>11</td>\n",
              "      <td>10</td>\n",
              "      <td>10</td>\n",
              "      <td>22723</td>\n",
              "      <td>22346</td>\n",
              "      <td>22026</td>\n",
              "      <td>21548</td>\n",
              "      <td>21010</td>\n",
              "      <td>20604</td>\n",
              "      <td>7943</td>\n",
              "      <td>7899</td>\n",
              "      <td>7518</td>\n",
              "      <td>6937</td>\n",
              "      <td>6897</td>\n",
              "      <td>6939</td>\n",
              "      <td>2</td>\n",
              "    </tr>\n",
              "    <tr>\n",
              "      <th>top</th>\n",
              "      <td>50000</td>\n",
              "      <td>2</td>\n",
              "      <td>2</td>\n",
              "      <td>2</td>\n",
              "      <td>29</td>\n",
              "      <td>0</td>\n",
              "      <td>0</td>\n",
              "      <td>0</td>\n",
              "      <td>0</td>\n",
              "      <td>0</td>\n",
              "      <td>0</td>\n",
              "      <td>0</td>\n",
              "      <td>0</td>\n",
              "      <td>0</td>\n",
              "      <td>0</td>\n",
              "      <td>0</td>\n",
              "      <td>0</td>\n",
              "      <td>0</td>\n",
              "      <td>0</td>\n",
              "      <td>0</td>\n",
              "      <td>0</td>\n",
              "      <td>0</td>\n",
              "      <td>0</td>\n",
              "      <td>0</td>\n",
              "    </tr>\n",
              "    <tr>\n",
              "      <th>freq</th>\n",
              "      <td>3363</td>\n",
              "      <td>18091</td>\n",
              "      <td>14019</td>\n",
              "      <td>15945</td>\n",
              "      <td>1602</td>\n",
              "      <td>14737</td>\n",
              "      <td>15730</td>\n",
              "      <td>15764</td>\n",
              "      <td>16455</td>\n",
              "      <td>16947</td>\n",
              "      <td>16286</td>\n",
              "      <td>1978</td>\n",
              "      <td>2476</td>\n",
              "      <td>2840</td>\n",
              "      <td>3165</td>\n",
              "      <td>3476</td>\n",
              "      <td>3990</td>\n",
              "      <td>5218</td>\n",
              "      <td>5365</td>\n",
              "      <td>5937</td>\n",
              "      <td>6377</td>\n",
              "      <td>6672</td>\n",
              "      <td>7142</td>\n",
              "      <td>23335</td>\n",
              "    </tr>\n",
              "  </tbody>\n",
              "</table>\n",
              "</div>"
            ],
            "text/plain": [
              "       Limit_bal Gender Education  ... Pay_May Pay_April Defaulter\n",
              "count      29965  29965     29965  ...   29965     29965     29965\n",
              "unique        81      2         7  ...    6897      6939         2\n",
              "top        50000      2         2  ...       0         0         0\n",
              "freq        3363  18091     14019  ...    6672      7142     23335\n",
              "\n",
              "[4 rows x 24 columns]"
            ]
          },
          "metadata": {},
          "execution_count": 47
        }
      ]
    },
    {
      "cell_type": "code",
      "metadata": {
        "colab": {
          "base_uri": "https://localhost:8080/"
        },
        "id": "4WEEKzAIZTQO",
        "outputId": "03ddcec5-f3ae-410e-8242-e629461bae55"
      },
      "source": [
        "df.columns"
      ],
      "execution_count": 18,
      "outputs": [
        {
          "output_type": "execute_result",
          "data": {
            "text/plain": [
              "Index(['Limit_bal', 'Gender', 'Education', 'Marital_status', 'Age',\n",
              "       'Repayment_September', 'Repayment_August', 'Repayment_July',\n",
              "       'Repayment_June', 'Repayment_May', 'Repayment_April', 'Sep_Bill',\n",
              "       'Aug_Bill', 'July_Bill', 'June_Bill', 'May_Bill', 'Apr_Bill', 'Pay_Sep',\n",
              "       'Pay_Aug', 'Pay_July', 'Pay_June', 'Pay_May', 'Pay_April', 'Defaulter'],\n",
              "      dtype='object')"
            ]
          },
          "metadata": {},
          "execution_count": 18
        }
      ]
    },
    {
      "cell_type": "code",
      "metadata": {
        "id": "WhJJ3O8qZTNb"
      },
      "source": [
        "sns.boxplot(df['Limit_bal'])"
      ],
      "execution_count": 63,
      "outputs": []
    },
    {
      "cell_type": "code",
      "metadata": {
        "id": "b3TOnpXvZTLk"
      },
      "source": [
        "df[df['Limit_bal']>700000].shape"
      ],
      "execution_count": 61,
      "outputs": []
    },
    {
      "cell_type": "code",
      "metadata": {
        "id": "j08OhZJUh322"
      },
      "source": [
        "df['Limit_bal'] = np.where(df['Limit_bal']>=700000,700000,df['Limit_bal'])"
      ],
      "execution_count": 62,
      "outputs": []
    },
    {
      "cell_type": "code",
      "metadata": {
        "colab": {
          "base_uri": "https://localhost:8080/"
        },
        "id": "KZr1z9kiZTJL",
        "outputId": "751c400f-210e-4a03-a514-7cbc13777ea0"
      },
      "source": [
        "df.Gender.value_counts(normalize=True)"
      ],
      "execution_count": 22,
      "outputs": [
        {
          "output_type": "execute_result",
          "data": {
            "text/plain": [
              "2    0.603738\n",
              "1    0.396262\n",
              "Name: Gender, dtype: float64"
            ]
          },
          "metadata": {},
          "execution_count": 22
        }
      ]
    },
    {
      "cell_type": "code",
      "metadata": {
        "id": "2BTMJFioZTGl"
      },
      "source": [
        "df['Gender'] = df['Gender'].apply(lambda x:'Male' if x==1 else 'Female')"
      ],
      "execution_count": 52,
      "outputs": []
    },
    {
      "cell_type": "code",
      "metadata": {
        "colab": {
          "base_uri": "https://localhost:8080/"
        },
        "id": "OQGVQYKxZSXq",
        "outputId": "f55d69f2-2722-4f62-c63e-7365292d09c1"
      },
      "source": [
        "df.Education.value_counts(normalize=True)"
      ],
      "execution_count": 53,
      "outputs": [
        {
          "output_type": "execute_result",
          "data": {
            "text/plain": [
              "2    0.467846\n",
              "1    0.352511\n",
              "3    0.164025\n",
              "5    0.009344\n",
              "4    0.004105\n",
              "6    0.001702\n",
              "0    0.000467\n",
              "Name: Education, dtype: float64"
            ]
          },
          "metadata": {},
          "execution_count": 53
        }
      ]
    },
    {
      "cell_type": "code",
      "metadata": {
        "id": "zSvtJmIBm62l"
      },
      "source": [
        "df['Education'] = df['Education'].apply(lambda x:'Graduate' if x==1 else ('University' if x==2 else ('High School' if x==3 else 'others')))"
      ],
      "execution_count": 54,
      "outputs": []
    },
    {
      "cell_type": "code",
      "metadata": {
        "colab": {
          "base_uri": "https://localhost:8080/"
        },
        "id": "kNSHf0yzoaqk",
        "outputId": "01635123-8702-4558-c929-1f51306db0e6"
      },
      "source": [
        "df['Marital_status'].value_counts(normalize=True)"
      ],
      "execution_count": 26,
      "outputs": [
        {
          "output_type": "execute_result",
          "data": {
            "text/plain": [
              "2    0.532121\n",
              "1    0.455298\n",
              "3    0.010779\n",
              "0    0.001802\n",
              "Name: Marital_status, dtype: float64"
            ]
          },
          "metadata": {},
          "execution_count": 26
        }
      ]
    },
    {
      "cell_type": "code",
      "metadata": {
        "id": "RM1e9w1BopAU"
      },
      "source": [
        "df['Marital_status'] = df['Marital_status'].apply(lambda x:'Married' if x==1 else('Unmarried' if x==2 else 'others'))"
      ],
      "execution_count": 55,
      "outputs": []
    },
    {
      "cell_type": "code",
      "metadata": {
        "colab": {
          "base_uri": "https://localhost:8080/"
        },
        "id": "1y4hixVzpJey",
        "outputId": "7e2e4404-e503-4b8d-b0ea-1aebe7edb917"
      },
      "source": [
        "df['Age'].value_counts().sort_index()"
      ],
      "execution_count": 28,
      "outputs": [
        {
          "output_type": "execute_result",
          "data": {
            "text/plain": [
              "21      67\n",
              "22     560\n",
              "23     930\n",
              "24    1126\n",
              "25    1185\n",
              "26    1252\n",
              "27    1475\n",
              "28    1406\n",
              "29    1602\n",
              "30    1394\n",
              "31    1213\n",
              "32    1157\n",
              "33    1146\n",
              "34    1161\n",
              "35    1113\n",
              "36    1107\n",
              "37    1041\n",
              "38     943\n",
              "39     951\n",
              "40     870\n",
              "41     822\n",
              "42     792\n",
              "43     669\n",
              "44     700\n",
              "45     617\n",
              "46     570\n",
              "47     501\n",
              "48     466\n",
              "49     449\n",
              "50     411\n",
              "51     340\n",
              "52     304\n",
              "53     325\n",
              "54     247\n",
              "55     209\n",
              "56     178\n",
              "57     122\n",
              "58     122\n",
              "59      83\n",
              "60      67\n",
              "61      56\n",
              "62      44\n",
              "63      31\n",
              "64      31\n",
              "65      24\n",
              "66      25\n",
              "67      16\n",
              "68       5\n",
              "69      15\n",
              "70      10\n",
              "71       3\n",
              "72       3\n",
              "73       4\n",
              "74       1\n",
              "75       3\n",
              "79       1\n",
              "Name: Age, dtype: int64"
            ]
          },
          "metadata": {},
          "execution_count": 28
        }
      ]
    },
    {
      "cell_type": "code",
      "metadata": {
        "colab": {
          "base_uri": "https://localhost:8080/",
          "height": 297
        },
        "id": "i2XC1hRyqcjZ",
        "outputId": "32c94c60-5fcc-4176-d70e-255cb743bb64"
      },
      "source": [
        "sns.histplot(df['Age'])"
      ],
      "execution_count": 56,
      "outputs": [
        {
          "output_type": "execute_result",
          "data": {
            "text/plain": [
              "<matplotlib.axes._subplots.AxesSubplot at 0x7f2567f54950>"
            ]
          },
          "metadata": {},
          "execution_count": 56
        },
        {
          "output_type": "display_data",
          "data": {
            "image/png": "[encoded data removed]",
            "text/plain": [
              "<Figure size 432x288 with 1 Axes>"
            ]
          },
          "metadata": {
            "needs_background": "light"
          }
        }
      ]
    },
    {
      "cell_type": "code",
      "metadata": {
        "id": "4vNCGn6Up3aC"
      },
      "source": [
        "df['AgeGroup'] = pd.cut(df.Age, bins=[21,25,30,35,40,45,50,55,60,80],labels=['21-25','26-30','31-35','36-40','41-45','46-50','51-55','56-60','61 and Above'])"
      ],
      "execution_count": 30,
      "outputs": []
    },
    {
      "cell_type": "code",
      "metadata": {
        "id": "BFXnnrRDpJSR"
      },
      "source": [
        "df[['Age','AgeGroup']].sample(10)"
      ],
      "execution_count": 64,
      "outputs": []
    },
    {
      "cell_type": "code",
      "metadata": {
        "id": "n9Bsd9TxpJKd"
      },
      "source": [
        "df.drop(columns=['Age'],inplace=True)"
      ],
      "execution_count": 32,
      "outputs": []
    }
  ]
}