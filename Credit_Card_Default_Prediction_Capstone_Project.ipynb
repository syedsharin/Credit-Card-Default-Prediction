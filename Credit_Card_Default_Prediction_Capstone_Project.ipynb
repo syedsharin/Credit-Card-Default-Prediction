{
  "nbformat": 4,
  "nbformat_minor": 0,
  "metadata": {
    "kernelspec": {
      "display_name": "Python 3",
      "language": "python",
      "name": "python3"
    },
    "language_info": {
      "codemirror_mode": {
        "name": "ipython",
        "version": 3
      },
      "file_extension": ".py",
      "mimetype": "text/x-python",
      "name": "python",
      "nbconvert_exporter": "python",
      "pygments_lexer": "ipython3",
      "version": "3.6.6"
    },
    "colab": {
      "name": "Credit-Card-Default Prediction - Capstone Project.ipynb",
      "provenance": [],
      "collapsed_sections": [],
      "include_colab_link": true
    }
  },
  "cells": [
    {
      "cell_type": "markdown",
      "metadata": {
        "id": "view-in-github",
        "colab_type": "text"
      },
      "source": [
        "<a href=\"https://colab.research.google.com/github/syedsharin/Credit-Card-Default-Prediction/blob/main/Credit_Card_Default_Prediction_Capstone_Project.ipynb\" target=\"_parent\"><img src=\"https://colab.research.google.com/assets/colab-badge.svg\" alt=\"Open In Colab\"/></a>"
      ]
    },
    {
      "cell_type": "markdown",
      "metadata": {
        "id": "tOGC-qoyhJeX"
      },
      "source": [
        "# <b><u> Project Title : Predicting whether a customer will default on his/her credit card </u></b>"
      ]
    },
    {
      "cell_type": "markdown",
      "metadata": {
        "id": "Y06xIdG26kRF"
      },
      "source": [
        "## <b> Problem Description </b>\n",
        "\n",
        "### This project is aimed at predicting the case of customers default payments in Taiwan. From the perspective of risk management, the result of predictive accuracy of the estimated probability of default will be more valuable than the binary result of classification - credible or not credible clients. We can use the [K-S chart](https://www.listendata.com/2019/07/KS-Statistics-Python.html) to evaluate which customers will default on their credit card payments\n"
      ]
    },
    {
      "cell_type": "markdown",
      "metadata": {
        "id": "AlLxAtlziMbP"
      },
      "source": [
        "## <b> Data Description </b>\n",
        "\n",
        "### <b>Attribute Information: </b>\n",
        "\n",
        "### This research employed a binary variable, default payment (Yes = 1, No = 0), as the response variable. This study reviewed the literature and used the following 23 variables as explanatory variables:\n",
        "* ### X1: Amount of the given credit (NT dollar): it includes both the individual consumer credit and his/her family (supplementary) credit.\n",
        "* ### X2: Gender (1 = male; 2 = female).\n",
        "* ### X3: Education (1 = graduate school; 2 = university; 3 = high school; 4 = others).\n",
        "* ### X4: Marital status (1 = married; 2 = single; 3 = others).\n",
        "* ### X5: Age (year).\n",
        "* ### X6 - X11: History of past payment. We tracked the past monthly payment records (from April to September, 2005) as follows: X6 = the repayment status in September, 2005; X7 = the repayment status in August, 2005; . . .;X11 = the repayment status in April, 2005. The measurement scale for the repayment status is: -1 = pay duly; 1 = payment delay for one month; 2 = payment delay for two months; . . .; 8 = payment delay for eight months; 9 = payment delay for nine months and above.\n",
        "* ### X12-X17: Amount of bill statement (NT dollar). X12 = amount of bill statement in September, 2005; X13 = amount of bill statement in August, 2005; . . .; X17 = amount of bill statement in April, 2005.\n",
        "* ### X18-X23: Amount of previous payment (NT dollar). X18 = amount paid in September, 2005; X19 = amount paid in August, 2005; . . .;X23 = amount paid in April, 2005."
      ]
    },
    {
      "cell_type": "markdown",
      "metadata": {
        "id": "9gBQ24vDFK5e"
      },
      "source": [
        "##<b> Import Modules"
      ]
    },
    {
      "cell_type": "code",
      "metadata": {
        "id": "dByMsuzT8Tnw"
      },
      "source": [
        "import pandas as pd\n",
        "import numpy as np\n",
        "import seaborn as sns\n",
        "import matplotlib.pyplot as plt\n",
        "import warnings\n",
        "warnings.filterwarnings(\"ignore\")\n"
      ],
      "execution_count": null,
      "outputs": []
    },
    {
      "cell_type": "markdown",
      "metadata": {
        "id": "YZfrnoFQFMKy"
      },
      "source": [
        "## <b> Loading the dataset"
      ]
    },
    {
      "cell_type": "code",
      "metadata": {
        "id": "uScyOLm_zpKT"
      },
      "source": [
        "data = pd.read_csv(\"https://raw.githubusercontent.com/syedsharin/Credit-Card-Default-Prediction/main/default%20of%20credit%20card%20clients.csv\")"
      ],
      "execution_count": null,
      "outputs": []
    },
    {
      "cell_type": "code",
      "metadata": {
        "id": "q9CfZ8fzFSbf"
      },
      "source": [
        "# Copy data for backup\n",
        "df = data.copy()"
      ],
      "execution_count": null,
      "outputs": []
    },
    {
      "cell_type": "code",
      "metadata": {
        "id": "iDndRhnozt76",
        "colab": {
          "base_uri": "https://localhost:8080/",
          "height": 295
        },
        "outputId": "c8f6cf0d-268d-44bd-bc6a-fd402af4a816"
      },
      "source": [
        "# Checking top 5 rows of the data\n",
        "df.head()"
      ],
      "execution_count": null,
      "outputs": [
        {
          "output_type": "execute_result",
          "data": {
            "text/html": [
              "<div>\n",
              "<style scoped>\n",
              "    .dataframe tbody tr th:only-of-type {\n",
              "        vertical-align: middle;\n",
              "    }\n",
              "\n",
              "    .dataframe tbody tr th {\n",
              "        vertical-align: top;\n",
              "    }\n",
              "\n",
              "    .dataframe thead th {\n",
              "        text-align: right;\n",
              "    }\n",
              "</style>\n",
              "<table border=\"1\" class=\"dataframe\">\n",
              "  <thead>\n",
              "    <tr style=\"text-align: right;\">\n",
              "      <th></th>\n",
              "      <th>Unnamed: 0</th>\n",
              "      <th>X1</th>\n",
              "      <th>X2</th>\n",
              "      <th>X3</th>\n",
              "      <th>X4</th>\n",
              "      <th>X5</th>\n",
              "      <th>X6</th>\n",
              "      <th>X7</th>\n",
              "      <th>X8</th>\n",
              "      <th>X9</th>\n",
              "      <th>X10</th>\n",
              "      <th>X11</th>\n",
              "      <th>X12</th>\n",
              "      <th>X13</th>\n",
              "      <th>X14</th>\n",
              "      <th>X15</th>\n",
              "      <th>X16</th>\n",
              "      <th>X17</th>\n",
              "      <th>X18</th>\n",
              "      <th>X19</th>\n",
              "      <th>X20</th>\n",
              "      <th>X21</th>\n",
              "      <th>X22</th>\n",
              "      <th>X23</th>\n",
              "      <th>Y</th>\n",
              "    </tr>\n",
              "  </thead>\n",
              "  <tbody>\n",
              "    <tr>\n",
              "      <th>0</th>\n",
              "      <td>ID</td>\n",
              "      <td>LIMIT_BAL</td>\n",
              "      <td>SEX</td>\n",
              "      <td>EDUCATION</td>\n",
              "      <td>MARRIAGE</td>\n",
              "      <td>AGE</td>\n",
              "      <td>PAY_0</td>\n",
              "      <td>PAY_2</td>\n",
              "      <td>PAY_3</td>\n",
              "      <td>PAY_4</td>\n",
              "      <td>PAY_5</td>\n",
              "      <td>PAY_6</td>\n",
              "      <td>BILL_AMT1</td>\n",
              "      <td>BILL_AMT2</td>\n",
              "      <td>BILL_AMT3</td>\n",
              "      <td>BILL_AMT4</td>\n",
              "      <td>BILL_AMT5</td>\n",
              "      <td>BILL_AMT6</td>\n",
              "      <td>PAY_AMT1</td>\n",
              "      <td>PAY_AMT2</td>\n",
              "      <td>PAY_AMT3</td>\n",
              "      <td>PAY_AMT4</td>\n",
              "      <td>PAY_AMT5</td>\n",
              "      <td>PAY_AMT6</td>\n",
              "      <td>default payment next month</td>\n",
              "    </tr>\n",
              "    <tr>\n",
              "      <th>1</th>\n",
              "      <td>1</td>\n",
              "      <td>20000</td>\n",
              "      <td>2</td>\n",
              "      <td>2</td>\n",
              "      <td>1</td>\n",
              "      <td>24</td>\n",
              "      <td>2</td>\n",
              "      <td>2</td>\n",
              "      <td>-1</td>\n",
              "      <td>-1</td>\n",
              "      <td>-2</td>\n",
              "      <td>-2</td>\n",
              "      <td>3913</td>\n",
              "      <td>3102</td>\n",
              "      <td>689</td>\n",
              "      <td>0</td>\n",
              "      <td>0</td>\n",
              "      <td>0</td>\n",
              "      <td>0</td>\n",
              "      <td>689</td>\n",
              "      <td>0</td>\n",
              "      <td>0</td>\n",
              "      <td>0</td>\n",
              "      <td>0</td>\n",
              "      <td>1</td>\n",
              "    </tr>\n",
              "    <tr>\n",
              "      <th>2</th>\n",
              "      <td>2</td>\n",
              "      <td>120000</td>\n",
              "      <td>2</td>\n",
              "      <td>2</td>\n",
              "      <td>2</td>\n",
              "      <td>26</td>\n",
              "      <td>-1</td>\n",
              "      <td>2</td>\n",
              "      <td>0</td>\n",
              "      <td>0</td>\n",
              "      <td>0</td>\n",
              "      <td>2</td>\n",
              "      <td>2682</td>\n",
              "      <td>1725</td>\n",
              "      <td>2682</td>\n",
              "      <td>3272</td>\n",
              "      <td>3455</td>\n",
              "      <td>3261</td>\n",
              "      <td>0</td>\n",
              "      <td>1000</td>\n",
              "      <td>1000</td>\n",
              "      <td>1000</td>\n",
              "      <td>0</td>\n",
              "      <td>2000</td>\n",
              "      <td>1</td>\n",
              "    </tr>\n",
              "    <tr>\n",
              "      <th>3</th>\n",
              "      <td>3</td>\n",
              "      <td>90000</td>\n",
              "      <td>2</td>\n",
              "      <td>2</td>\n",
              "      <td>2</td>\n",
              "      <td>34</td>\n",
              "      <td>0</td>\n",
              "      <td>0</td>\n",
              "      <td>0</td>\n",
              "      <td>0</td>\n",
              "      <td>0</td>\n",
              "      <td>0</td>\n",
              "      <td>29239</td>\n",
              "      <td>14027</td>\n",
              "      <td>13559</td>\n",
              "      <td>14331</td>\n",
              "      <td>14948</td>\n",
              "      <td>15549</td>\n",
              "      <td>1518</td>\n",
              "      <td>1500</td>\n",
              "      <td>1000</td>\n",
              "      <td>1000</td>\n",
              "      <td>1000</td>\n",
              "      <td>5000</td>\n",
              "      <td>0</td>\n",
              "    </tr>\n",
              "    <tr>\n",
              "      <th>4</th>\n",
              "      <td>4</td>\n",
              "      <td>50000</td>\n",
              "      <td>2</td>\n",
              "      <td>2</td>\n",
              "      <td>1</td>\n",
              "      <td>37</td>\n",
              "      <td>0</td>\n",
              "      <td>0</td>\n",
              "      <td>0</td>\n",
              "      <td>0</td>\n",
              "      <td>0</td>\n",
              "      <td>0</td>\n",
              "      <td>46990</td>\n",
              "      <td>48233</td>\n",
              "      <td>49291</td>\n",
              "      <td>28314</td>\n",
              "      <td>28959</td>\n",
              "      <td>29547</td>\n",
              "      <td>2000</td>\n",
              "      <td>2019</td>\n",
              "      <td>1200</td>\n",
              "      <td>1100</td>\n",
              "      <td>1069</td>\n",
              "      <td>1000</td>\n",
              "      <td>0</td>\n",
              "    </tr>\n",
              "  </tbody>\n",
              "</table>\n",
              "</div>"
            ],
            "text/plain": [
              "  Unnamed: 0         X1   X2  ...       X22       X23                           Y\n",
              "0         ID  LIMIT_BAL  SEX  ...  PAY_AMT5  PAY_AMT6  default payment next month\n",
              "1          1      20000    2  ...         0         0                           1\n",
              "2          2     120000    2  ...         0      2000                           1\n",
              "3          3      90000    2  ...      1000      5000                           0\n",
              "4          4      50000    2  ...      1069      1000                           0\n",
              "\n",
              "[5 rows x 25 columns]"
            ]
          },
          "metadata": {},
          "execution_count": 9
        }
      ]
    },
    {
      "cell_type": "markdown",
      "metadata": {
        "id": "UakdSnb2IOyA"
      },
      "source": [
        "#<b> Preprocessing"
      ]
    },
    {
      "cell_type": "code",
      "metadata": {
        "id": "9USqqL_3sNH4"
      },
      "source": [
        "# Droping 'Unnamed: 0' column \n",
        "df.drop(columns='Unnamed: 0',inplace=True)"
      ],
      "execution_count": null,
      "outputs": []
    },
    {
      "cell_type": "code",
      "metadata": {
        "id": "gWqiXeXm0S3J"
      },
      "source": [
        "# creating list of columns name for renaming data frame column names\n",
        "columns = ['Limit_bal','Gender','Education','Marital_status','Age','Repayment_September','Repayment_August','Repayment_July','Repayment_June','Repayment_May',\n",
        "           'Repayment_April','Sep_Bill','Aug_Bill','July_Bill','June_Bill','May_Bill','Apr_Bill','Pay_Sep','Pay_Aug','Pay_July','Pay_June','Pay_May','Pay_April','Defaulter'] "
      ],
      "execution_count": null,
      "outputs": []
    },
    {
      "cell_type": "code",
      "metadata": {
        "id": "fh2IVIyP40sN"
      },
      "source": [
        " # replace column name with columns list\n",
        "df.set_axis(columns, axis=1, inplace=True)"
      ],
      "execution_count": null,
      "outputs": []
    },
    {
      "cell_type": "code",
      "metadata": {
        "id": "0LIeTJG15Wve"
      },
      "source": [
        "# droping the axis 0\n",
        "df=df.drop(0,axis=0).reset_index(drop=True)"
      ],
      "execution_count": null,
      "outputs": []
    },
    {
      "cell_type": "code",
      "metadata": {
        "id": "VDrF1fke6ABi",
        "colab": {
          "base_uri": "https://localhost:8080/",
          "height": 226
        },
        "outputId": "d1227c86-3742-4e02-85cf-bb24d5e0b8b5"
      },
      "source": [
        "df.head()"
      ],
      "execution_count": null,
      "outputs": [
        {
          "output_type": "execute_result",
          "data": {
            "text/html": [
              "<div>\n",
              "<style scoped>\n",
              "    .dataframe tbody tr th:only-of-type {\n",
              "        vertical-align: middle;\n",
              "    }\n",
              "\n",
              "    .dataframe tbody tr th {\n",
              "        vertical-align: top;\n",
              "    }\n",
              "\n",
              "    .dataframe thead th {\n",
              "        text-align: right;\n",
              "    }\n",
              "</style>\n",
              "<table border=\"1\" class=\"dataframe\">\n",
              "  <thead>\n",
              "    <tr style=\"text-align: right;\">\n",
              "      <th></th>\n",
              "      <th>Limit_bal</th>\n",
              "      <th>Gender</th>\n",
              "      <th>Education</th>\n",
              "      <th>Marital_status</th>\n",
              "      <th>Age</th>\n",
              "      <th>Repayment_September</th>\n",
              "      <th>Repayment_August</th>\n",
              "      <th>Repayment_July</th>\n",
              "      <th>Repayment_June</th>\n",
              "      <th>Repayment_May</th>\n",
              "      <th>Repayment_April</th>\n",
              "      <th>Sep_Bill</th>\n",
              "      <th>Aug_Bill</th>\n",
              "      <th>July_Bill</th>\n",
              "      <th>June_Bill</th>\n",
              "      <th>May_Bill</th>\n",
              "      <th>Apr_Bill</th>\n",
              "      <th>Pay_Sep</th>\n",
              "      <th>Pay_Aug</th>\n",
              "      <th>Pay_July</th>\n",
              "      <th>Pay_June</th>\n",
              "      <th>Pay_May</th>\n",
              "      <th>Pay_April</th>\n",
              "      <th>Defaulter</th>\n",
              "    </tr>\n",
              "  </thead>\n",
              "  <tbody>\n",
              "    <tr>\n",
              "      <th>0</th>\n",
              "      <td>20000</td>\n",
              "      <td>2</td>\n",
              "      <td>2</td>\n",
              "      <td>1</td>\n",
              "      <td>24</td>\n",
              "      <td>2</td>\n",
              "      <td>2</td>\n",
              "      <td>-1</td>\n",
              "      <td>-1</td>\n",
              "      <td>-2</td>\n",
              "      <td>-2</td>\n",
              "      <td>3913</td>\n",
              "      <td>3102</td>\n",
              "      <td>689</td>\n",
              "      <td>0</td>\n",
              "      <td>0</td>\n",
              "      <td>0</td>\n",
              "      <td>0</td>\n",
              "      <td>689</td>\n",
              "      <td>0</td>\n",
              "      <td>0</td>\n",
              "      <td>0</td>\n",
              "      <td>0</td>\n",
              "      <td>1</td>\n",
              "    </tr>\n",
              "    <tr>\n",
              "      <th>1</th>\n",
              "      <td>120000</td>\n",
              "      <td>2</td>\n",
              "      <td>2</td>\n",
              "      <td>2</td>\n",
              "      <td>26</td>\n",
              "      <td>-1</td>\n",
              "      <td>2</td>\n",
              "      <td>0</td>\n",
              "      <td>0</td>\n",
              "      <td>0</td>\n",
              "      <td>2</td>\n",
              "      <td>2682</td>\n",
              "      <td>1725</td>\n",
              "      <td>2682</td>\n",
              "      <td>3272</td>\n",
              "      <td>3455</td>\n",
              "      <td>3261</td>\n",
              "      <td>0</td>\n",
              "      <td>1000</td>\n",
              "      <td>1000</td>\n",
              "      <td>1000</td>\n",
              "      <td>0</td>\n",
              "      <td>2000</td>\n",
              "      <td>1</td>\n",
              "    </tr>\n",
              "    <tr>\n",
              "      <th>2</th>\n",
              "      <td>90000</td>\n",
              "      <td>2</td>\n",
              "      <td>2</td>\n",
              "      <td>2</td>\n",
              "      <td>34</td>\n",
              "      <td>0</td>\n",
              "      <td>0</td>\n",
              "      <td>0</td>\n",
              "      <td>0</td>\n",
              "      <td>0</td>\n",
              "      <td>0</td>\n",
              "      <td>29239</td>\n",
              "      <td>14027</td>\n",
              "      <td>13559</td>\n",
              "      <td>14331</td>\n",
              "      <td>14948</td>\n",
              "      <td>15549</td>\n",
              "      <td>1518</td>\n",
              "      <td>1500</td>\n",
              "      <td>1000</td>\n",
              "      <td>1000</td>\n",
              "      <td>1000</td>\n",
              "      <td>5000</td>\n",
              "      <td>0</td>\n",
              "    </tr>\n",
              "    <tr>\n",
              "      <th>3</th>\n",
              "      <td>50000</td>\n",
              "      <td>2</td>\n",
              "      <td>2</td>\n",
              "      <td>1</td>\n",
              "      <td>37</td>\n",
              "      <td>0</td>\n",
              "      <td>0</td>\n",
              "      <td>0</td>\n",
              "      <td>0</td>\n",
              "      <td>0</td>\n",
              "      <td>0</td>\n",
              "      <td>46990</td>\n",
              "      <td>48233</td>\n",
              "      <td>49291</td>\n",
              "      <td>28314</td>\n",
              "      <td>28959</td>\n",
              "      <td>29547</td>\n",
              "      <td>2000</td>\n",
              "      <td>2019</td>\n",
              "      <td>1200</td>\n",
              "      <td>1100</td>\n",
              "      <td>1069</td>\n",
              "      <td>1000</td>\n",
              "      <td>0</td>\n",
              "    </tr>\n",
              "    <tr>\n",
              "      <th>4</th>\n",
              "      <td>50000</td>\n",
              "      <td>1</td>\n",
              "      <td>2</td>\n",
              "      <td>1</td>\n",
              "      <td>57</td>\n",
              "      <td>-1</td>\n",
              "      <td>0</td>\n",
              "      <td>-1</td>\n",
              "      <td>0</td>\n",
              "      <td>0</td>\n",
              "      <td>0</td>\n",
              "      <td>8617</td>\n",
              "      <td>5670</td>\n",
              "      <td>35835</td>\n",
              "      <td>20940</td>\n",
              "      <td>19146</td>\n",
              "      <td>19131</td>\n",
              "      <td>2000</td>\n",
              "      <td>36681</td>\n",
              "      <td>10000</td>\n",
              "      <td>9000</td>\n",
              "      <td>689</td>\n",
              "      <td>679</td>\n",
              "      <td>0</td>\n",
              "    </tr>\n",
              "  </tbody>\n",
              "</table>\n",
              "</div>"
            ],
            "text/plain": [
              "  Limit_bal Gender Education  ... Pay_May Pay_April Defaulter\n",
              "0     20000      2         2  ...       0         0         1\n",
              "1    120000      2         2  ...       0      2000         1\n",
              "2     90000      2         2  ...    1000      5000         0\n",
              "3     50000      2         2  ...    1069      1000         0\n",
              "4     50000      1         2  ...     689       679         0\n",
              "\n",
              "[5 rows x 24 columns]"
            ]
          },
          "metadata": {},
          "execution_count": 14
        }
      ]
    },
    {
      "cell_type": "code",
      "metadata": {
        "id": "BZaB-Buv6quA",
        "colab": {
          "base_uri": "https://localhost:8080/"
        },
        "outputId": "fe2a89e3-5bc2-417c-cd2f-96ead7eaa468"
      },
      "source": [
        "# Checking the shape of data\n",
        "df.shape"
      ],
      "execution_count": null,
      "outputs": [
        {
          "output_type": "execute_result",
          "data": {
            "text/plain": [
              "(30000, 24)"
            ]
          },
          "metadata": {},
          "execution_count": 15
        }
      ]
    },
    {
      "cell_type": "code",
      "metadata": {
        "colab": {
          "base_uri": "https://localhost:8080/"
        },
        "id": "4rpSVlcgENSj",
        "outputId": "a3f6930c-29f1-4d62-f4f8-021123f0232f"
      },
      "source": [
        "# checking information about each column, but all columns dtype is in object\n",
        "df.info()"
      ],
      "execution_count": null,
      "outputs": [
        {
          "output_type": "stream",
          "name": "stdout",
          "text": [
            "<class 'pandas.core.frame.DataFrame'>\n",
            "RangeIndex: 30000 entries, 0 to 29999\n",
            "Data columns (total 24 columns):\n",
            " #   Column               Non-Null Count  Dtype \n",
            "---  ------               --------------  ----- \n",
            " 0   Limit_bal            30000 non-null  object\n",
            " 1   Gender               30000 non-null  object\n",
            " 2   Education            30000 non-null  object\n",
            " 3   Marital_status       30000 non-null  object\n",
            " 4   Age                  30000 non-null  object\n",
            " 5   Repayment_September  30000 non-null  object\n",
            " 6   Repayment_August     30000 non-null  object\n",
            " 7   Repayment_July       30000 non-null  object\n",
            " 8   Repayment_June       30000 non-null  object\n",
            " 9   Repayment_May        30000 non-null  object\n",
            " 10  Repayment_April      30000 non-null  object\n",
            " 11  Sep_Bill             30000 non-null  object\n",
            " 12  Aug_Bill             30000 non-null  object\n",
            " 13  July_Bill            30000 non-null  object\n",
            " 14  June_Bill            30000 non-null  object\n",
            " 15  May_Bill             30000 non-null  object\n",
            " 16  Apr_Bill             30000 non-null  object\n",
            " 17  Pay_Sep              30000 non-null  object\n",
            " 18  Pay_Aug              30000 non-null  object\n",
            " 19  Pay_July             30000 non-null  object\n",
            " 20  Pay_June             30000 non-null  object\n",
            " 21  Pay_May              30000 non-null  object\n",
            " 22  Pay_April            30000 non-null  object\n",
            " 23  Defaulter            30000 non-null  object\n",
            "dtypes: object(24)\n",
            "memory usage: 5.5+ MB\n"
          ]
        }
      ]
    },
    {
      "cell_type": "code",
      "metadata": {
        "id": "7_9i7IxhEw6y"
      },
      "source": [
        "# Converting all columns from Object to int \n",
        "for i in df.columns:\n",
        "  df[i]=df[i].astype('int')"
      ],
      "execution_count": null,
      "outputs": []
    },
    {
      "cell_type": "code",
      "metadata": {
        "colab": {
          "base_uri": "https://localhost:8080/",
          "height": 320
        },
        "id": "h-2f0lSEEaoS",
        "outputId": "05138f9e-852d-463d-99a6-5321b2e0e604"
      },
      "source": [
        "# Describing data set\n",
        "df.describe()"
      ],
      "execution_count": null,
      "outputs": [
        {
          "output_type": "execute_result",
          "data": {
            "text/html": [
              "<div>\n",
              "<style scoped>\n",
              "    .dataframe tbody tr th:only-of-type {\n",
              "        vertical-align: middle;\n",
              "    }\n",
              "\n",
              "    .dataframe tbody tr th {\n",
              "        vertical-align: top;\n",
              "    }\n",
              "\n",
              "    .dataframe thead th {\n",
              "        text-align: right;\n",
              "    }\n",
              "</style>\n",
              "<table border=\"1\" class=\"dataframe\">\n",
              "  <thead>\n",
              "    <tr style=\"text-align: right;\">\n",
              "      <th></th>\n",
              "      <th>Limit_bal</th>\n",
              "      <th>Gender</th>\n",
              "      <th>Education</th>\n",
              "      <th>Marital_status</th>\n",
              "      <th>Age</th>\n",
              "      <th>Repayment_September</th>\n",
              "      <th>Repayment_August</th>\n",
              "      <th>Repayment_July</th>\n",
              "      <th>Repayment_June</th>\n",
              "      <th>Repayment_May</th>\n",
              "      <th>Repayment_April</th>\n",
              "      <th>Sep_Bill</th>\n",
              "      <th>Aug_Bill</th>\n",
              "      <th>July_Bill</th>\n",
              "      <th>June_Bill</th>\n",
              "      <th>May_Bill</th>\n",
              "      <th>Apr_Bill</th>\n",
              "      <th>Pay_Sep</th>\n",
              "      <th>Pay_Aug</th>\n",
              "      <th>Pay_July</th>\n",
              "      <th>Pay_June</th>\n",
              "      <th>Pay_May</th>\n",
              "      <th>Pay_April</th>\n",
              "      <th>Defaulter</th>\n",
              "    </tr>\n",
              "  </thead>\n",
              "  <tbody>\n",
              "    <tr>\n",
              "      <th>count</th>\n",
              "      <td>30000.000000</td>\n",
              "      <td>30000.000000</td>\n",
              "      <td>30000.000000</td>\n",
              "      <td>30000.000000</td>\n",
              "      <td>30000.000000</td>\n",
              "      <td>30000.000000</td>\n",
              "      <td>30000.000000</td>\n",
              "      <td>30000.000000</td>\n",
              "      <td>30000.000000</td>\n",
              "      <td>30000.000000</td>\n",
              "      <td>30000.000000</td>\n",
              "      <td>30000.000000</td>\n",
              "      <td>30000.000000</td>\n",
              "      <td>3.000000e+04</td>\n",
              "      <td>30000.000000</td>\n",
              "      <td>30000.000000</td>\n",
              "      <td>30000.000000</td>\n",
              "      <td>30000.000000</td>\n",
              "      <td>3.000000e+04</td>\n",
              "      <td>30000.00000</td>\n",
              "      <td>30000.000000</td>\n",
              "      <td>30000.000000</td>\n",
              "      <td>30000.000000</td>\n",
              "      <td>30000.000000</td>\n",
              "    </tr>\n",
              "    <tr>\n",
              "      <th>mean</th>\n",
              "      <td>167484.322667</td>\n",
              "      <td>1.603733</td>\n",
              "      <td>1.853133</td>\n",
              "      <td>1.551867</td>\n",
              "      <td>35.485500</td>\n",
              "      <td>-0.016700</td>\n",
              "      <td>-0.133767</td>\n",
              "      <td>-0.166200</td>\n",
              "      <td>-0.220667</td>\n",
              "      <td>-0.266200</td>\n",
              "      <td>-0.291100</td>\n",
              "      <td>51223.330900</td>\n",
              "      <td>49179.075167</td>\n",
              "      <td>4.701315e+04</td>\n",
              "      <td>43262.948967</td>\n",
              "      <td>40311.400967</td>\n",
              "      <td>38871.760400</td>\n",
              "      <td>5663.580500</td>\n",
              "      <td>5.921163e+03</td>\n",
              "      <td>5225.68150</td>\n",
              "      <td>4826.076867</td>\n",
              "      <td>4799.387633</td>\n",
              "      <td>5215.502567</td>\n",
              "      <td>0.221200</td>\n",
              "    </tr>\n",
              "    <tr>\n",
              "      <th>std</th>\n",
              "      <td>129747.661567</td>\n",
              "      <td>0.489129</td>\n",
              "      <td>0.790349</td>\n",
              "      <td>0.521970</td>\n",
              "      <td>9.217904</td>\n",
              "      <td>1.123802</td>\n",
              "      <td>1.197186</td>\n",
              "      <td>1.196868</td>\n",
              "      <td>1.169139</td>\n",
              "      <td>1.133187</td>\n",
              "      <td>1.149988</td>\n",
              "      <td>73635.860576</td>\n",
              "      <td>71173.768783</td>\n",
              "      <td>6.934939e+04</td>\n",
              "      <td>64332.856134</td>\n",
              "      <td>60797.155770</td>\n",
              "      <td>59554.107537</td>\n",
              "      <td>16563.280354</td>\n",
              "      <td>2.304087e+04</td>\n",
              "      <td>17606.96147</td>\n",
              "      <td>15666.159744</td>\n",
              "      <td>15278.305679</td>\n",
              "      <td>17777.465775</td>\n",
              "      <td>0.415062</td>\n",
              "    </tr>\n",
              "    <tr>\n",
              "      <th>min</th>\n",
              "      <td>10000.000000</td>\n",
              "      <td>1.000000</td>\n",
              "      <td>0.000000</td>\n",
              "      <td>0.000000</td>\n",
              "      <td>21.000000</td>\n",
              "      <td>-2.000000</td>\n",
              "      <td>-2.000000</td>\n",
              "      <td>-2.000000</td>\n",
              "      <td>-2.000000</td>\n",
              "      <td>-2.000000</td>\n",
              "      <td>-2.000000</td>\n",
              "      <td>-165580.000000</td>\n",
              "      <td>-69777.000000</td>\n",
              "      <td>-1.572640e+05</td>\n",
              "      <td>-170000.000000</td>\n",
              "      <td>-81334.000000</td>\n",
              "      <td>-339603.000000</td>\n",
              "      <td>0.000000</td>\n",
              "      <td>0.000000e+00</td>\n",
              "      <td>0.00000</td>\n",
              "      <td>0.000000</td>\n",
              "      <td>0.000000</td>\n",
              "      <td>0.000000</td>\n",
              "      <td>0.000000</td>\n",
              "    </tr>\n",
              "    <tr>\n",
              "      <th>25%</th>\n",
              "      <td>50000.000000</td>\n",
              "      <td>1.000000</td>\n",
              "      <td>1.000000</td>\n",
              "      <td>1.000000</td>\n",
              "      <td>28.000000</td>\n",
              "      <td>-1.000000</td>\n",
              "      <td>-1.000000</td>\n",
              "      <td>-1.000000</td>\n",
              "      <td>-1.000000</td>\n",
              "      <td>-1.000000</td>\n",
              "      <td>-1.000000</td>\n",
              "      <td>3558.750000</td>\n",
              "      <td>2984.750000</td>\n",
              "      <td>2.666250e+03</td>\n",
              "      <td>2326.750000</td>\n",
              "      <td>1763.000000</td>\n",
              "      <td>1256.000000</td>\n",
              "      <td>1000.000000</td>\n",
              "      <td>8.330000e+02</td>\n",
              "      <td>390.00000</td>\n",
              "      <td>296.000000</td>\n",
              "      <td>252.500000</td>\n",
              "      <td>117.750000</td>\n",
              "      <td>0.000000</td>\n",
              "    </tr>\n",
              "    <tr>\n",
              "      <th>50%</th>\n",
              "      <td>140000.000000</td>\n",
              "      <td>2.000000</td>\n",
              "      <td>2.000000</td>\n",
              "      <td>2.000000</td>\n",
              "      <td>34.000000</td>\n",
              "      <td>0.000000</td>\n",
              "      <td>0.000000</td>\n",
              "      <td>0.000000</td>\n",
              "      <td>0.000000</td>\n",
              "      <td>0.000000</td>\n",
              "      <td>0.000000</td>\n",
              "      <td>22381.500000</td>\n",
              "      <td>21200.000000</td>\n",
              "      <td>2.008850e+04</td>\n",
              "      <td>19052.000000</td>\n",
              "      <td>18104.500000</td>\n",
              "      <td>17071.000000</td>\n",
              "      <td>2100.000000</td>\n",
              "      <td>2.009000e+03</td>\n",
              "      <td>1800.00000</td>\n",
              "      <td>1500.000000</td>\n",
              "      <td>1500.000000</td>\n",
              "      <td>1500.000000</td>\n",
              "      <td>0.000000</td>\n",
              "    </tr>\n",
              "    <tr>\n",
              "      <th>75%</th>\n",
              "      <td>240000.000000</td>\n",
              "      <td>2.000000</td>\n",
              "      <td>2.000000</td>\n",
              "      <td>2.000000</td>\n",
              "      <td>41.000000</td>\n",
              "      <td>0.000000</td>\n",
              "      <td>0.000000</td>\n",
              "      <td>0.000000</td>\n",
              "      <td>0.000000</td>\n",
              "      <td>0.000000</td>\n",
              "      <td>0.000000</td>\n",
              "      <td>67091.000000</td>\n",
              "      <td>64006.250000</td>\n",
              "      <td>6.016475e+04</td>\n",
              "      <td>54506.000000</td>\n",
              "      <td>50190.500000</td>\n",
              "      <td>49198.250000</td>\n",
              "      <td>5006.000000</td>\n",
              "      <td>5.000000e+03</td>\n",
              "      <td>4505.00000</td>\n",
              "      <td>4013.250000</td>\n",
              "      <td>4031.500000</td>\n",
              "      <td>4000.000000</td>\n",
              "      <td>0.000000</td>\n",
              "    </tr>\n",
              "    <tr>\n",
              "      <th>max</th>\n",
              "      <td>1000000.000000</td>\n",
              "      <td>2.000000</td>\n",
              "      <td>6.000000</td>\n",
              "      <td>3.000000</td>\n",
              "      <td>79.000000</td>\n",
              "      <td>8.000000</td>\n",
              "      <td>8.000000</td>\n",
              "      <td>8.000000</td>\n",
              "      <td>8.000000</td>\n",
              "      <td>8.000000</td>\n",
              "      <td>8.000000</td>\n",
              "      <td>964511.000000</td>\n",
              "      <td>983931.000000</td>\n",
              "      <td>1.664089e+06</td>\n",
              "      <td>891586.000000</td>\n",
              "      <td>927171.000000</td>\n",
              "      <td>961664.000000</td>\n",
              "      <td>873552.000000</td>\n",
              "      <td>1.684259e+06</td>\n",
              "      <td>896040.00000</td>\n",
              "      <td>621000.000000</td>\n",
              "      <td>426529.000000</td>\n",
              "      <td>528666.000000</td>\n",
              "      <td>1.000000</td>\n",
              "    </tr>\n",
              "  </tbody>\n",
              "</table>\n",
              "</div>"
            ],
            "text/plain": [
              "            Limit_bal        Gender  ...      Pay_April     Defaulter\n",
              "count    30000.000000  30000.000000  ...   30000.000000  30000.000000\n",
              "mean    167484.322667      1.603733  ...    5215.502567      0.221200\n",
              "std     129747.661567      0.489129  ...   17777.465775      0.415062\n",
              "min      10000.000000      1.000000  ...       0.000000      0.000000\n",
              "25%      50000.000000      1.000000  ...     117.750000      0.000000\n",
              "50%     140000.000000      2.000000  ...    1500.000000      0.000000\n",
              "75%     240000.000000      2.000000  ...    4000.000000      0.000000\n",
              "max    1000000.000000      2.000000  ...  528666.000000      1.000000\n",
              "\n",
              "[8 rows x 24 columns]"
            ]
          },
          "metadata": {},
          "execution_count": 18
        }
      ]
    },
    {
      "cell_type": "markdown",
      "metadata": {
        "id": "qTiCavk9nAqq"
      },
      "source": [
        "The average value for the amount of credit card limit is 167,484 NT dollars. The standard deviation is 129,747 NT dollars, ranging from 10,000 to 1M NT dollars.\n",
        "Education level is mostly graduate school (1) and university (2). Most of the clients are either marrined or single (less frequent the other status). Average age is 35.5 years, with a standard deviation of 9.2 years."
      ]
    },
    {
      "cell_type": "code",
      "metadata": {
        "colab": {
          "base_uri": "https://localhost:8080/"
        },
        "id": "wBDI2r1iFCva",
        "outputId": "65f0096e-fc43-45a8-d158-850d0f76e378"
      },
      "source": [
        "# Checking duplicates in the data\n",
        "# we have duplicates of non defaulter - 29 and defaulter 6\n",
        "duplicates = df[df.duplicated()]\n",
        "duplicates.Defaulter.value_counts()"
      ],
      "execution_count": null,
      "outputs": [
        {
          "output_type": "execute_result",
          "data": {
            "text/plain": [
              "0    29\n",
              "1     6\n",
              "Name: Defaulter, dtype: int64"
            ]
          },
          "metadata": {},
          "execution_count": 19
        }
      ]
    },
    {
      "cell_type": "code",
      "metadata": {
        "id": "lvHo4WGTnVMq"
      },
      "source": [
        "# Drop Duplicates\n",
        "df.drop_duplicates(inplace=True)"
      ],
      "execution_count": null,
      "outputs": []
    },
    {
      "cell_type": "code",
      "metadata": {
        "colab": {
          "base_uri": "https://localhost:8080/"
        },
        "id": "xrZx7KEXFywX",
        "outputId": "a8efe570-c24b-472a-850b-882bbbdd1f4b"
      },
      "source": [
        "# Checking null values. So we don't have any missing values\n",
        "df.isnull().sum()"
      ],
      "execution_count": null,
      "outputs": [
        {
          "output_type": "execute_result",
          "data": {
            "text/plain": [
              "Limit_bal              0\n",
              "Gender                 0\n",
              "Education              0\n",
              "Marital_status         0\n",
              "Age                    0\n",
              "Repayment_September    0\n",
              "Repayment_August       0\n",
              "Repayment_July         0\n",
              "Repayment_June         0\n",
              "Repayment_May          0\n",
              "Repayment_April        0\n",
              "Sep_Bill               0\n",
              "Aug_Bill               0\n",
              "July_Bill              0\n",
              "June_Bill              0\n",
              "May_Bill               0\n",
              "Apr_Bill               0\n",
              "Pay_Sep                0\n",
              "Pay_Aug                0\n",
              "Pay_July               0\n",
              "Pay_June               0\n",
              "Pay_May                0\n",
              "Pay_April              0\n",
              "Defaulter              0\n",
              "dtype: int64"
            ]
          },
          "metadata": {},
          "execution_count": 21
        }
      ]
    },
    {
      "cell_type": "markdown",
      "metadata": {
        "id": "k2ov9hHhnzpA"
      },
      "source": [
        "So we don't have any missing value"
      ]
    },
    {
      "cell_type": "markdown",
      "metadata": {
        "id": "HRgG_yBqWZK1"
      },
      "source": [
        "#<b> Feature Engineering on Categorical Feature"
      ]
    },
    {
      "cell_type": "code",
      "metadata": {
        "colab": {
          "base_uri": "https://localhost:8080/"
        },
        "id": "ubcWrQbrn_jS",
        "outputId": "98ff92fb-e26b-4472-e1d8-b86e250e1377"
      },
      "source": [
        "# Value count of Gender Column\n",
        "df.Gender.value_counts()"
      ],
      "execution_count": null,
      "outputs": [
        {
          "output_type": "execute_result",
          "data": {
            "text/plain": [
              "2    18091\n",
              "1    11874\n",
              "Name: Gender, dtype: int64"
            ]
          },
          "metadata": {},
          "execution_count": 22
        }
      ]
    },
    {
      "cell_type": "code",
      "metadata": {
        "id": "hzou51x_n_gy"
      },
      "source": [
        "# converting Gender 1 & 2 value in Male & Female for better understanding  \n",
        "df['Gender'] = df['Gender'].apply(lambda x:'Male'  if x == 1 else 'Female')"
      ],
      "execution_count": null,
      "outputs": []
    },
    {
      "cell_type": "code",
      "metadata": {
        "colab": {
          "base_uri": "https://localhost:8080/"
        },
        "id": "10TDTBg1n_eN",
        "outputId": "39f663b6-3261-43b0-9fb7-42b40912044d"
      },
      "source": [
        "# Value count of Education Column\n",
        "df.Education.value_counts()"
      ],
      "execution_count": null,
      "outputs": [
        {
          "output_type": "execute_result",
          "data": {
            "text/plain": [
              "2    14019\n",
              "1    10563\n",
              "3     4915\n",
              "5      280\n",
              "4      123\n",
              "6       51\n",
              "0       14\n",
              "Name: Education, dtype: int64"
            ]
          },
          "metadata": {},
          "execution_count": 24
        }
      ]
    },
    {
      "cell_type": "markdown",
      "metadata": {
        "id": "05ag2Lc3qK3C"
      },
      "source": [
        "In data given values are  1 = graduate school; 2 = university; 3 = high school; 4 = others so all other are not given in data we include them on others"
      ]
    },
    {
      "cell_type": "code",
      "metadata": {
        "id": "lsPKME6Tn_bX"
      },
      "source": [
        "# \n",
        "df['Education']=df['Education'].apply(lambda x :'graduate' if x==1 else ('university' if x==2 else ('high school' if x==3  else 'others')))"
      ],
      "execution_count": null,
      "outputs": []
    },
    {
      "cell_type": "code",
      "metadata": {
        "colab": {
          "base_uri": "https://localhost:8080/"
        },
        "id": "2Iy3z3Z3rZn4",
        "outputId": "3bc9e5e1-e26b-4e91-8c02-cbca99b72d26"
      },
      "source": [
        "# Value count of Marital_status Column\n",
        "df.Marital_status.value_counts()"
      ],
      "execution_count": null,
      "outputs": [
        {
          "output_type": "execute_result",
          "data": {
            "text/plain": [
              "2    15945\n",
              "1    13643\n",
              "3      323\n",
              "0       54\n",
              "Name: Marital_status, dtype: int64"
            ]
          },
          "metadata": {},
          "execution_count": 26
        }
      ]
    },
    {
      "cell_type": "markdown",
      "metadata": {
        "id": "5Ag4hpuJrmVX"
      },
      "source": [
        "data given values are 1 = married; 2 = single; 3 = others so 0 is  not given in data, we include them on others"
      ]
    },
    {
      "cell_type": "code",
      "metadata": {
        "id": "ChLsIvfD5iyM"
      },
      "source": [
        "# \n",
        "df['Marital_status']=df['Marital_status'].apply(lambda x : \"married\" if x==1 else (\"single\" if x==2 else 'others'))"
      ],
      "execution_count": null,
      "outputs": []
    },
    {
      "cell_type": "code",
      "metadata": {
        "colab": {
          "base_uri": "https://localhost:8080/"
        },
        "id": "eqxSXnZjr9DX",
        "outputId": "ebf7d99c-e709-450d-91ce-476350c142b5"
      },
      "source": [
        "# Value count percentage of Age Column\n",
        "df.Age.value_counts(normalize=True)"
      ],
      "execution_count": null,
      "outputs": [
        {
          "output_type": "execute_result",
          "data": {
            "text/plain": [
              "29    0.053462\n",
              "27    0.049224\n",
              "28    0.046921\n",
              "30    0.046521\n",
              "26    0.041782\n",
              "31    0.040481\n",
              "25    0.039546\n",
              "34    0.038745\n",
              "32    0.038612\n",
              "33    0.038245\n",
              "24    0.037577\n",
              "35    0.037143\n",
              "36    0.036943\n",
              "37    0.034741\n",
              "39    0.031737\n",
              "38    0.031470\n",
              "23    0.031036\n",
              "40    0.029034\n",
              "41    0.027432\n",
              "42    0.026431\n",
              "44    0.023361\n",
              "43    0.022326\n",
              "45    0.020591\n",
              "46    0.019022\n",
              "22    0.018688\n",
              "47    0.016720\n",
              "48    0.015551\n",
              "49    0.014984\n",
              "50    0.013716\n",
              "51    0.011347\n",
              "53    0.010846\n",
              "52    0.010145\n",
              "54    0.008243\n",
              "55    0.006975\n",
              "56    0.005940\n",
              "58    0.004071\n",
              "57    0.004071\n",
              "59    0.002770\n",
              "60    0.002236\n",
              "21    0.002236\n",
              "61    0.001869\n",
              "62    0.001468\n",
              "63    0.001035\n",
              "64    0.001035\n",
              "66    0.000834\n",
              "65    0.000801\n",
              "67    0.000534\n",
              "69    0.000501\n",
              "70    0.000334\n",
              "68    0.000167\n",
              "73    0.000133\n",
              "71    0.000100\n",
              "72    0.000100\n",
              "75    0.000100\n",
              "74    0.000033\n",
              "79    0.000033\n",
              "Name: Age, dtype: float64"
            ]
          },
          "metadata": {},
          "execution_count": 28
        }
      ]
    },
    {
      "cell_type": "code",
      "metadata": {
        "colab": {
          "base_uri": "https://localhost:8080/",
          "height": 297
        },
        "id": "oIHbU1oWsQtm",
        "outputId": "76ce1e80-1132-4a07-b321-28d15fc48bf0"
      },
      "source": [
        "# visualizing the Age column for better understanding with histplot\n",
        "sns.histplot(df['Age'])"
      ],
      "execution_count": null,
      "outputs": [
        {
          "output_type": "execute_result",
          "data": {
            "text/plain": [
              "<matplotlib.axes._subplots.AxesSubplot at 0x7fe48dcf54d0>"
            ]
          },
          "metadata": {},
          "execution_count": 29
        },
        {
          "output_type": "display_data",
          "data": {
            "image/png": "[encoded data removed]",
            "text/plain": [
              "<Figure size 432x288 with 1 Axes>"
            ]
          },
          "metadata": {
            "needs_background": "light"
          }
        }
      ]
    },
    {
      "cell_type": "markdown",
      "metadata": {
        "id": "EYXSVGWOGndg"
      },
      "source": [
        "From this hist plot we can divide age into 9 bins"
      ]
    },
    {
      "cell_type": "code",
      "metadata": {
        "id": "IBXvpScoHr2O"
      },
      "source": [
        "# we are using Bining in Age column\n",
        "df['Age_group'] = pd.cut(df.Age, bins=[21,25,30,35,40,45,50,55,60,80],labels=['21-25','26-30','31-35','36-40','41-45','46-50','51-55','56-60','61 and Above'])"
      ],
      "execution_count": null,
      "outputs": []
    },
    {
      "cell_type": "code",
      "metadata": {
        "id": "fzhkHXz1EGyw"
      },
      "source": [
        "# droping Age column\n",
        "df.drop(columns=['Age'],inplace=True)"
      ],
      "execution_count": null,
      "outputs": []
    },
    {
      "cell_type": "markdown",
      "metadata": {
        "id": "4d2l_3PJOuWs"
      },
      "source": [
        "# Feature Engineering on Repayments status Columns"
      ]
    },
    {
      "cell_type": "code",
      "metadata": {
        "id": "0eaubDCmPlUB"
      },
      "source": [
        "# creating a new data frame of Repayments status\n",
        "repayment_df = df[['Repayment_September','Repayment_August','Repayment_July','Repayment_June','Repayment_May','Repayment_April']]"
      ],
      "execution_count": null,
      "outputs": []
    },
    {
      "cell_type": "code",
      "metadata": {
        "colab": {
          "base_uri": "https://localhost:8080/"
        },
        "id": "BZcwXf2POpjE",
        "outputId": "a23e1d42-a1a8-4bb6-e0d8-03345d16793f"
      },
      "source": [
        "#value counts of all Repayments status Columns \n",
        "for i in repayment_df.columns:\n",
        "  print('column name = ', i)\n",
        "  print(repayment_df[i].value_counts())"
      ],
      "execution_count": null,
      "outputs": [
        {
          "output_type": "stream",
          "name": "stdout",
          "text": [
            "column name =  Repayment_September\n",
            " 0    14737\n",
            "-1     5682\n",
            " 1     3667\n",
            "-2     2750\n",
            " 2     2666\n",
            " 3      322\n",
            " 4       76\n",
            " 5       26\n",
            " 8       19\n",
            " 6       11\n",
            " 7        9\n",
            "Name: Repayment_September, dtype: int64\n",
            "column name =  Repayment_August\n",
            " 0    15730\n",
            "-1     6046\n",
            " 2     3926\n",
            "-2     3752\n",
            " 3      326\n",
            " 4       99\n",
            " 1       28\n",
            " 5       25\n",
            " 7       20\n",
            " 6       12\n",
            " 8        1\n",
            "Name: Repayment_August, dtype: int64\n",
            "column name =  Repayment_July\n",
            " 0    15764\n",
            "-1     5934\n",
            "-2     4055\n",
            " 2     3819\n",
            " 3      240\n",
            " 4       75\n",
            " 7       27\n",
            " 6       23\n",
            " 5       21\n",
            " 1        4\n",
            " 8        3\n",
            "Name: Repayment_July, dtype: int64\n",
            "column name =  Repayment_June\n",
            " 0    16455\n",
            "-1     5683\n",
            "-2     4318\n",
            " 2     3159\n",
            " 3      180\n",
            " 4       68\n",
            " 7       58\n",
            " 5       35\n",
            " 6        5\n",
            " 8        2\n",
            " 1        2\n",
            "Name: Repayment_June, dtype: int64\n",
            "column name =  Repayment_May\n",
            " 0    16947\n",
            "-1     5535\n",
            "-2     4516\n",
            " 2     2626\n",
            " 3      178\n",
            " 4       83\n",
            " 7       58\n",
            " 5       17\n",
            " 6        4\n",
            " 8        1\n",
            "Name: Repayment_May, dtype: int64\n",
            "column name =  Repayment_April\n",
            " 0    16286\n",
            "-1     5736\n",
            "-2     4865\n",
            " 2     2766\n",
            " 3      184\n",
            " 4       48\n",
            " 7       46\n",
            " 6       19\n",
            " 5       13\n",
            " 8        2\n",
            "Name: Repayment_April, dtype: int64\n"
          ]
        }
      ]
    },
    {
      "cell_type": "markdown",
      "metadata": {
        "id": "CTp3s5c2UD53"
      },
      "source": [
        "In data description we have not given information about 0 and -2 values "
      ]
    },
    {
      "cell_type": "code",
      "metadata": {
        "colab": {
          "base_uri": "https://localhost:8080/"
        },
        "id": "50z3AVNQSgwz",
        "outputId": "79711a2c-6f31-4727-b3b0-869c2a71f068"
      },
      "source": [
        "# Value count percentage of Repayments status columns with respect of Defaulter\n",
        "for i in repayment_df.columns:\n",
        "  print('column name = ',i)\n",
        "  print(df[repayment_df[i]<=0].Defaulter.value_counts(normalize=True))"
      ],
      "execution_count": null,
      "outputs": [
        {
          "output_type": "stream",
          "name": "stdout",
          "text": [
            "column name =  Repayment_September\n",
            "0    0.861625\n",
            "1    0.138375\n",
            "Name: Defaulter, dtype: float64\n",
            "column name =  Repayment_August\n",
            "0    0.837238\n",
            "1    0.162762\n",
            "Name: Defaulter, dtype: float64\n",
            "column name =  Repayment_July\n",
            "0    0.82802\n",
            "1    0.17198\n",
            "Name: Defaulter, dtype: float64\n",
            "column name =  Repayment_June\n",
            "0    0.820381\n",
            "1    0.179619\n",
            "Name: Defaulter, dtype: float64\n",
            "column name =  Repayment_May\n",
            "0    0.815468\n",
            "1    0.184532\n",
            "Name: Defaulter, dtype: float64\n",
            "column name =  Repayment_April\n",
            "0    0.813293\n",
            "1    0.186707\n",
            "Name: Defaulter, dtype: float64\n"
          ]
        }
      ]
    },
    {
      "cell_type": "code",
      "metadata": {
        "id": "Z2VOlHjBTgFD"
      },
      "source": [
        "# Defining function for all Repayments status value less than 0 consider as 0\n",
        "def repaymentsstatus(delay):\n",
        "    if delay <= 0:\n",
        "      return 0\n",
        "    else:\n",
        "      return delay"
      ],
      "execution_count": null,
      "outputs": []
    },
    {
      "cell_type": "code",
      "metadata": {
        "id": "5nuwXLIFVxJy"
      },
      "source": [
        "# Apply function on Repayments status columns\n",
        "for i in repayment_df.columns:\n",
        "  df[i]=df[i].apply(repaymentsstatus)"
      ],
      "execution_count": null,
      "outputs": []
    },
    {
      "cell_type": "code",
      "metadata": {
        "id": "yrc2ET9wfdEk"
      },
      "source": [
        "# Divide data into Categorical and numerical feature \n",
        "cat_features = df[['Age_group','Gender','Education','Marital_status','Repayment_September','Repayment_August','Repayment_July','Repayment_May','Repayment_April','Defaulter']]\n",
        "num_feature  = df[['Limit_bal','Sep_Bill','Aug_Bill', 'July_Bill', 'June_Bill', 'May_Bill', 'Apr_Bill', 'Pay_Sep',\n",
        "       'Pay_Aug', 'Pay_July', 'Pay_June', 'Pay_May', 'Pay_April']]"
      ],
      "execution_count": null,
      "outputs": []
    },
    {
      "cell_type": "markdown",
      "metadata": {
        "id": "OCLVLs4u5xXI"
      },
      "source": [
        "#<b> EDA "
      ]
    },
    {
      "cell_type": "markdown",
      "metadata": {
        "id": "-JfrwzFsfSn9"
      },
      "source": [
        "#<b> Categorical Feature"
      ]
    },
    {
      "cell_type": "code",
      "metadata": {
        "colab": {
          "base_uri": "https://localhost:8080/",
          "height": 206
        },
        "id": "T0fws8uxfSIc",
        "outputId": "764ef0d8-8198-45dd-89fa-fb233bb2d7a5"
      },
      "source": [
        "cat_features.head()"
      ],
      "execution_count": null,
      "outputs": [
        {
          "output_type": "execute_result",
          "data": {
            "text/html": [
              "<div>\n",
              "<style scoped>\n",
              "    .dataframe tbody tr th:only-of-type {\n",
              "        vertical-align: middle;\n",
              "    }\n",
              "\n",
              "    .dataframe tbody tr th {\n",
              "        vertical-align: top;\n",
              "    }\n",
              "\n",
              "    .dataframe thead th {\n",
              "        text-align: right;\n",
              "    }\n",
              "</style>\n",
              "<table border=\"1\" class=\"dataframe\">\n",
              "  <thead>\n",
              "    <tr style=\"text-align: right;\">\n",
              "      <th></th>\n",
              "      <th>Age_group</th>\n",
              "      <th>Gender</th>\n",
              "      <th>Education</th>\n",
              "      <th>Marital_status</th>\n",
              "      <th>Repayment_September</th>\n",
              "      <th>Repayment_August</th>\n",
              "      <th>Repayment_July</th>\n",
              "      <th>Repayment_May</th>\n",
              "      <th>Repayment_April</th>\n",
              "      <th>Defaulter</th>\n",
              "    </tr>\n",
              "  </thead>\n",
              "  <tbody>\n",
              "    <tr>\n",
              "      <th>0</th>\n",
              "      <td>21-25</td>\n",
              "      <td>Female</td>\n",
              "      <td>university</td>\n",
              "      <td>married</td>\n",
              "      <td>2</td>\n",
              "      <td>2</td>\n",
              "      <td>0</td>\n",
              "      <td>0</td>\n",
              "      <td>0</td>\n",
              "      <td>1</td>\n",
              "    </tr>\n",
              "    <tr>\n",
              "      <th>1</th>\n",
              "      <td>26-30</td>\n",
              "      <td>Female</td>\n",
              "      <td>university</td>\n",
              "      <td>single</td>\n",
              "      <td>0</td>\n",
              "      <td>2</td>\n",
              "      <td>0</td>\n",
              "      <td>0</td>\n",
              "      <td>2</td>\n",
              "      <td>1</td>\n",
              "    </tr>\n",
              "    <tr>\n",
              "      <th>2</th>\n",
              "      <td>31-35</td>\n",
              "      <td>Female</td>\n",
              "      <td>university</td>\n",
              "      <td>single</td>\n",
              "      <td>0</td>\n",
              "      <td>0</td>\n",
              "      <td>0</td>\n",
              "      <td>0</td>\n",
              "      <td>0</td>\n",
              "      <td>0</td>\n",
              "    </tr>\n",
              "    <tr>\n",
              "      <th>3</th>\n",
              "      <td>36-40</td>\n",
              "      <td>Female</td>\n",
              "      <td>university</td>\n",
              "      <td>married</td>\n",
              "      <td>0</td>\n",
              "      <td>0</td>\n",
              "      <td>0</td>\n",
              "      <td>0</td>\n",
              "      <td>0</td>\n",
              "      <td>0</td>\n",
              "    </tr>\n",
              "    <tr>\n",
              "      <th>4</th>\n",
              "      <td>56-60</td>\n",
              "      <td>Male</td>\n",
              "      <td>university</td>\n",
              "      <td>married</td>\n",
              "      <td>0</td>\n",
              "      <td>0</td>\n",
              "      <td>0</td>\n",
              "      <td>0</td>\n",
              "      <td>0</td>\n",
              "      <td>0</td>\n",
              "    </tr>\n",
              "  </tbody>\n",
              "</table>\n",
              "</div>"
            ],
            "text/plain": [
              "  Age_group  Gender   Education  ... Repayment_May  Repayment_April  Defaulter\n",
              "0     21-25  Female  university  ...             0                0          1\n",
              "1     26-30  Female  university  ...             0                2          1\n",
              "2     31-35  Female  university  ...             0                0          0\n",
              "3     36-40  Female  university  ...             0                0          0\n",
              "4     56-60    Male  university  ...             0                0          0\n",
              "\n",
              "[5 rows x 10 columns]"
            ]
          },
          "metadata": {},
          "execution_count": 38
        }
      ]
    },
    {
      "cell_type": "code",
      "metadata": {
        "colab": {
          "base_uri": "https://localhost:8080/",
          "height": 966
        },
        "id": "fVv7BeJdqejq",
        "outputId": "d0b1ee66-2de5-4b62-8175-73ab4e117094"
      },
      "source": [
        "\n",
        "f, axes = plt.subplots(3, 3, figsize=(20, 15), facecolor='white')\n",
        "f.suptitle('FREQUENCY OF CATEGORICAL VARIABLES (BY TARGET)')\n",
        "ax1 = sns.countplot(x=\"Age_group\", hue=\"Defaulter\", data=cat_features, ax=axes[0,0])\n",
        "ax2 = sns.countplot(x=\"Gender\", hue=\"Defaulter\", data=cat_features,ax=axes[0,1])\n",
        "ax3 = sns.countplot(x=\"Education\", hue=\"Defaulter\", data=cat_features,ax=axes[0,2])\n",
        "ax4 = sns.countplot(x=\"Marital_status\", hue=\"Defaulter\", data=cat_features,  ax=axes[1,0])\n",
        "ax5 = sns.countplot(x=\"Repayment_September\", hue=\"Defaulter\", data=cat_features, ax=axes[1,1])\n",
        "ax6 = sns.countplot(x=\"Repayment_August\", hue=\"Defaulter\", data=cat_features,  ax=axes[1,2])\n",
        "ax7 = sns.countplot(x=\"Repayment_July\", hue=\"Defaulter\", data=cat_features, ax=axes[2,0])\n",
        "ax8 = sns.countplot(x=\"Repayment_May\", hue=\"Defaulter\", data=cat_features,  ax=axes[2,1])\n",
        "ax9 = sns.countplot(x=\"Repayment_April\", hue=\"Defaulter\", data=cat_features,  ax=axes[2,2]);"
      ],
      "execution_count": null,
      "outputs": [
        {
          "output_type": "display_data",
          "data": {
            "image/png": "[encoded data removed]",
            "text/plain": [
              "<Figure size 1440x1080 with 9 Axes>"
            ]
          },
          "metadata": {}
        }
      ]
    },
    {
      "cell_type": "code",
      "metadata": {
        "colab": {
          "base_uri": "https://localhost:8080/",
          "height": 248
        },
        "id": "tGw-kW3buLVG",
        "outputId": "bbd69565-53ec-4e07-d454-cd05fd0a99f4"
      },
      "source": [
        "plt.pie(df['Defaulter'].value_counts(normalize=True),autopct='%.0f%%')\n",
        "plt.show()"
      ],
      "execution_count": null,
      "outputs": [
        {
          "output_type": "display_data",
          "data": {
            "image/png": "[encoded data removed]",
            "text/plain": [
              "<Figure size 432x288 with 1 Axes>"
            ]
          },
          "metadata": {}
        }
      ]
    },
    {
      "cell_type": "code",
      "metadata": {
        "colab": {
          "base_uri": "https://localhost:8080/",
          "height": 314
        },
        "id": "NTnP2d0n6Ryb",
        "outputId": "cb989e7e-a69f-4333-d12f-37e261b79a2a"
      },
      "source": [
        "plt.figure(figsize=(20,15))\n",
        "sns.catplot(x=\"Age_group\", hue=\"Gender\", col=\"Defaulter\",\n",
        "                data=cat_features, kind=\"count\",\n",
        "                height=4, aspect=.7)\n",
        "plt.show()"
      ],
      "execution_count": null,
      "outputs": [
        {
          "output_type": "display_data",
          "data": {
            "text/plain": [
              "<Figure size 1440x1080 with 0 Axes>"
            ]
          },
          "metadata": {}
        },
        {
          "output_type": "display_data",
          "data": {
            "image/png": "[encoded data removed]",
            "text/plain": [
              "<Figure size 475.325x288 with 2 Axes>"
            ]
          },
          "metadata": {
            "needs_background": "light"
          }
        }
      ]
    },
    {
      "cell_type": "markdown",
      "metadata": {
        "id": "I0QqurPqwWEj"
      },
      "source": [
        "#<b> Numerical feature"
      ]
    },
    {
      "cell_type": "code",
      "metadata": {
        "colab": {
          "base_uri": "https://localhost:8080/",
          "height": 206
        },
        "id": "8QsnJaqGv7Ly",
        "outputId": "fc21ca25-47a3-4b9d-bfba-18155dbee2fe"
      },
      "source": [
        "num_feature.head()"
      ],
      "execution_count": null,
      "outputs": [
        {
          "output_type": "execute_result",
          "data": {
            "text/html": [
              "<div>\n",
              "<style scoped>\n",
              "    .dataframe tbody tr th:only-of-type {\n",
              "        vertical-align: middle;\n",
              "    }\n",
              "\n",
              "    .dataframe tbody tr th {\n",
              "        vertical-align: top;\n",
              "    }\n",
              "\n",
              "    .dataframe thead th {\n",
              "        text-align: right;\n",
              "    }\n",
              "</style>\n",
              "<table border=\"1\" class=\"dataframe\">\n",
              "  <thead>\n",
              "    <tr style=\"text-align: right;\">\n",
              "      <th></th>\n",
              "      <th>Limit_bal</th>\n",
              "      <th>Sep_Bill</th>\n",
              "      <th>Aug_Bill</th>\n",
              "      <th>July_Bill</th>\n",
              "      <th>June_Bill</th>\n",
              "      <th>May_Bill</th>\n",
              "      <th>Apr_Bill</th>\n",
              "      <th>Pay_Sep</th>\n",
              "      <th>Pay_Aug</th>\n",
              "      <th>Pay_July</th>\n",
              "      <th>Pay_June</th>\n",
              "      <th>Pay_May</th>\n",
              "      <th>Pay_April</th>\n",
              "    </tr>\n",
              "  </thead>\n",
              "  <tbody>\n",
              "    <tr>\n",
              "      <th>0</th>\n",
              "      <td>20000</td>\n",
              "      <td>3913</td>\n",
              "      <td>3102</td>\n",
              "      <td>689</td>\n",
              "      <td>0</td>\n",
              "      <td>0</td>\n",
              "      <td>0</td>\n",
              "      <td>0</td>\n",
              "      <td>689</td>\n",
              "      <td>0</td>\n",
              "      <td>0</td>\n",
              "      <td>0</td>\n",
              "      <td>0</td>\n",
              "    </tr>\n",
              "    <tr>\n",
              "      <th>1</th>\n",
              "      <td>120000</td>\n",
              "      <td>2682</td>\n",
              "      <td>1725</td>\n",
              "      <td>2682</td>\n",
              "      <td>3272</td>\n",
              "      <td>3455</td>\n",
              "      <td>3261</td>\n",
              "      <td>0</td>\n",
              "      <td>1000</td>\n",
              "      <td>1000</td>\n",
              "      <td>1000</td>\n",
              "      <td>0</td>\n",
              "      <td>2000</td>\n",
              "    </tr>\n",
              "    <tr>\n",
              "      <th>2</th>\n",
              "      <td>90000</td>\n",
              "      <td>29239</td>\n",
              "      <td>14027</td>\n",
              "      <td>13559</td>\n",
              "      <td>14331</td>\n",
              "      <td>14948</td>\n",
              "      <td>15549</td>\n",
              "      <td>1518</td>\n",
              "      <td>1500</td>\n",
              "      <td>1000</td>\n",
              "      <td>1000</td>\n",
              "      <td>1000</td>\n",
              "      <td>5000</td>\n",
              "    </tr>\n",
              "    <tr>\n",
              "      <th>3</th>\n",
              "      <td>50000</td>\n",
              "      <td>46990</td>\n",
              "      <td>48233</td>\n",
              "      <td>49291</td>\n",
              "      <td>28314</td>\n",
              "      <td>28959</td>\n",
              "      <td>29547</td>\n",
              "      <td>2000</td>\n",
              "      <td>2019</td>\n",
              "      <td>1200</td>\n",
              "      <td>1100</td>\n",
              "      <td>1069</td>\n",
              "      <td>1000</td>\n",
              "    </tr>\n",
              "    <tr>\n",
              "      <th>4</th>\n",
              "      <td>50000</td>\n",
              "      <td>8617</td>\n",
              "      <td>5670</td>\n",
              "      <td>35835</td>\n",
              "      <td>20940</td>\n",
              "      <td>19146</td>\n",
              "      <td>19131</td>\n",
              "      <td>2000</td>\n",
              "      <td>36681</td>\n",
              "      <td>10000</td>\n",
              "      <td>9000</td>\n",
              "      <td>689</td>\n",
              "      <td>679</td>\n",
              "    </tr>\n",
              "  </tbody>\n",
              "</table>\n",
              "</div>"
            ],
            "text/plain": [
              "   Limit_bal  Sep_Bill  Aug_Bill  ...  Pay_June  Pay_May  Pay_April\n",
              "0      20000      3913      3102  ...         0        0          0\n",
              "1     120000      2682      1725  ...      1000        0       2000\n",
              "2      90000     29239     14027  ...      1000     1000       5000\n",
              "3      50000     46990     48233  ...      1100     1069       1000\n",
              "4      50000      8617      5670  ...      9000      689        679\n",
              "\n",
              "[5 rows x 13 columns]"
            ]
          },
          "metadata": {},
          "execution_count": 41
        }
      ]
    },
    {
      "cell_type": "code",
      "metadata": {
        "colab": {
          "base_uri": "https://localhost:8080/",
          "height": 320
        },
        "id": "Zbbxkc8qyIGG",
        "outputId": "e06db4c5-ce0a-497c-b5f3-104f1e6f0a8e"
      },
      "source": [
        "num_feature.describe()"
      ],
      "execution_count": null,
      "outputs": [
        {
          "output_type": "execute_result",
          "data": {
            "text/html": [
              "<div>\n",
              "<style scoped>\n",
              "    .dataframe tbody tr th:only-of-type {\n",
              "        vertical-align: middle;\n",
              "    }\n",
              "\n",
              "    .dataframe tbody tr th {\n",
              "        vertical-align: top;\n",
              "    }\n",
              "\n",
              "    .dataframe thead th {\n",
              "        text-align: right;\n",
              "    }\n",
              "</style>\n",
              "<table border=\"1\" class=\"dataframe\">\n",
              "  <thead>\n",
              "    <tr style=\"text-align: right;\">\n",
              "      <th></th>\n",
              "      <th>Limit_bal</th>\n",
              "      <th>Sep_Bill</th>\n",
              "      <th>Aug_Bill</th>\n",
              "      <th>July_Bill</th>\n",
              "      <th>June_Bill</th>\n",
              "      <th>May_Bill</th>\n",
              "      <th>Apr_Bill</th>\n",
              "      <th>Pay_Sep</th>\n",
              "      <th>Pay_Aug</th>\n",
              "      <th>Pay_July</th>\n",
              "      <th>Pay_June</th>\n",
              "      <th>Pay_May</th>\n",
              "      <th>Pay_April</th>\n",
              "    </tr>\n",
              "  </thead>\n",
              "  <tbody>\n",
              "    <tr>\n",
              "      <th>count</th>\n",
              "      <td>29965.000000</td>\n",
              "      <td>29965.000000</td>\n",
              "      <td>29965.000000</td>\n",
              "      <td>2.996500e+04</td>\n",
              "      <td>29965.000000</td>\n",
              "      <td>29965.000000</td>\n",
              "      <td>29965.000000</td>\n",
              "      <td>29965.000000</td>\n",
              "      <td>2.996500e+04</td>\n",
              "      <td>29965.000000</td>\n",
              "      <td>29965.000000</td>\n",
              "      <td>29965.000000</td>\n",
              "      <td>29965.000000</td>\n",
              "    </tr>\n",
              "    <tr>\n",
              "      <th>mean</th>\n",
              "      <td>167442.005006</td>\n",
              "      <td>51283.009778</td>\n",
              "      <td>49236.366294</td>\n",
              "      <td>4.706792e+04</td>\n",
              "      <td>43313.329885</td>\n",
              "      <td>40358.334390</td>\n",
              "      <td>38917.012281</td>\n",
              "      <td>5670.099316</td>\n",
              "      <td>5.927983e+03</td>\n",
              "      <td>5231.688837</td>\n",
              "      <td>4831.617454</td>\n",
              "      <td>4804.897047</td>\n",
              "      <td>5221.498014</td>\n",
              "    </tr>\n",
              "    <tr>\n",
              "      <th>std</th>\n",
              "      <td>129760.135222</td>\n",
              "      <td>73658.132403</td>\n",
              "      <td>71195.567392</td>\n",
              "      <td>6.937135e+04</td>\n",
              "      <td>64353.514373</td>\n",
              "      <td>60817.130623</td>\n",
              "      <td>59574.147742</td>\n",
              "      <td>16571.849467</td>\n",
              "      <td>2.305346e+04</td>\n",
              "      <td>17616.361124</td>\n",
              "      <td>15674.464538</td>\n",
              "      <td>15286.372298</td>\n",
              "      <td>17786.976864</td>\n",
              "    </tr>\n",
              "    <tr>\n",
              "      <th>min</th>\n",
              "      <td>10000.000000</td>\n",
              "      <td>-165580.000000</td>\n",
              "      <td>-69777.000000</td>\n",
              "      <td>-1.572640e+05</td>\n",
              "      <td>-170000.000000</td>\n",
              "      <td>-81334.000000</td>\n",
              "      <td>-339603.000000</td>\n",
              "      <td>0.000000</td>\n",
              "      <td>0.000000e+00</td>\n",
              "      <td>0.000000</td>\n",
              "      <td>0.000000</td>\n",
              "      <td>0.000000</td>\n",
              "      <td>0.000000</td>\n",
              "    </tr>\n",
              "    <tr>\n",
              "      <th>25%</th>\n",
              "      <td>50000.000000</td>\n",
              "      <td>3595.000000</td>\n",
              "      <td>3010.000000</td>\n",
              "      <td>2.711000e+03</td>\n",
              "      <td>2360.000000</td>\n",
              "      <td>1787.000000</td>\n",
              "      <td>1262.000000</td>\n",
              "      <td>1000.000000</td>\n",
              "      <td>8.500000e+02</td>\n",
              "      <td>390.000000</td>\n",
              "      <td>300.000000</td>\n",
              "      <td>261.000000</td>\n",
              "      <td>131.000000</td>\n",
              "    </tr>\n",
              "    <tr>\n",
              "      <th>50%</th>\n",
              "      <td>140000.000000</td>\n",
              "      <td>22438.000000</td>\n",
              "      <td>21295.000000</td>\n",
              "      <td>2.013500e+04</td>\n",
              "      <td>19081.000000</td>\n",
              "      <td>18130.000000</td>\n",
              "      <td>17124.000000</td>\n",
              "      <td>2102.000000</td>\n",
              "      <td>2.010000e+03</td>\n",
              "      <td>1804.000000</td>\n",
              "      <td>1500.000000</td>\n",
              "      <td>1500.000000</td>\n",
              "      <td>1500.000000</td>\n",
              "    </tr>\n",
              "    <tr>\n",
              "      <th>75%</th>\n",
              "      <td>240000.000000</td>\n",
              "      <td>67260.000000</td>\n",
              "      <td>64109.000000</td>\n",
              "      <td>6.020100e+04</td>\n",
              "      <td>54601.000000</td>\n",
              "      <td>50247.000000</td>\n",
              "      <td>49252.000000</td>\n",
              "      <td>5008.000000</td>\n",
              "      <td>5.000000e+03</td>\n",
              "      <td>4512.000000</td>\n",
              "      <td>4016.000000</td>\n",
              "      <td>4042.000000</td>\n",
              "      <td>4000.000000</td>\n",
              "    </tr>\n",
              "    <tr>\n",
              "      <th>max</th>\n",
              "      <td>1000000.000000</td>\n",
              "      <td>964511.000000</td>\n",
              "      <td>983931.000000</td>\n",
              "      <td>1.664089e+06</td>\n",
              "      <td>891586.000000</td>\n",
              "      <td>927171.000000</td>\n",
              "      <td>961664.000000</td>\n",
              "      <td>873552.000000</td>\n",
              "      <td>1.684259e+06</td>\n",
              "      <td>896040.000000</td>\n",
              "      <td>621000.000000</td>\n",
              "      <td>426529.000000</td>\n",
              "      <td>528666.000000</td>\n",
              "    </tr>\n",
              "  </tbody>\n",
              "</table>\n",
              "</div>"
            ],
            "text/plain": [
              "            Limit_bal       Sep_Bill  ...        Pay_May      Pay_April\n",
              "count    29965.000000   29965.000000  ...   29965.000000   29965.000000\n",
              "mean    167442.005006   51283.009778  ...    4804.897047    5221.498014\n",
              "std     129760.135222   73658.132403  ...   15286.372298   17786.976864\n",
              "min      10000.000000 -165580.000000  ...       0.000000       0.000000\n",
              "25%      50000.000000    3595.000000  ...     261.000000     131.000000\n",
              "50%     140000.000000   22438.000000  ...    1500.000000    1500.000000\n",
              "75%     240000.000000   67260.000000  ...    4042.000000    4000.000000\n",
              "max    1000000.000000  964511.000000  ...  426529.000000  528666.000000\n",
              "\n",
              "[8 rows x 13 columns]"
            ]
          },
          "metadata": {},
          "execution_count": 42
        }
      ]
    },
    {
      "cell_type": "code",
      "metadata": {
        "id": "H8JSGfX_zFii"
      },
      "source": [
        "p75=df['Limit_bal'].quantile(0.75)\n",
        "p25 = df['Limit_bal'].quantile(0.25)\n",
        "iqr = p75-p25\n",
        "ul = iqr+iqr*1.5\n",
        "ll = iqr-iqr*1.5"
      ],
      "execution_count": null,
      "outputs": []
    },
    {
      "cell_type": "code",
      "metadata": {
        "id": "cJXA5Plt1tfF"
      },
      "source": [
        "for i in num_feature:\n",
        "  p75=df[i].quantile(0.75)\n",
        "  p25 = df[i].quantile(0.25)\n",
        "  iqr = p75-p25\n",
        "  ul = iqr+iqr*1.5\n",
        "  ll = iqr-iqr*1.5\n",
        "  num = num_feature[(num_feature[i]<ul) & (num_feature[i]>ll)]"
      ],
      "execution_count": null,
      "outputs": []
    },
    {
      "cell_type": "code",
      "metadata": {
        "id": "JkMuEAs8zsWB"
      },
      "source": [
        "num = num_feature[(num_feature['Pay_June']<ul) & (num_feature['Pay_June']>ll)]"
      ],
      "execution_count": null,
      "outputs": []
    },
    {
      "cell_type": "code",
      "metadata": {
        "id": "6alP0eOG2BEk",
        "colab": {
          "base_uri": "https://localhost:8080/",
          "height": 320
        },
        "outputId": "e37956cc-2f31-417d-dff6-e282de050911"
      },
      "source": [
        "num_feature.describe()"
      ],
      "execution_count": null,
      "outputs": [
        {
          "output_type": "execute_result",
          "data": {
            "text/html": [
              "<div>\n",
              "<style scoped>\n",
              "    .dataframe tbody tr th:only-of-type {\n",
              "        vertical-align: middle;\n",
              "    }\n",
              "\n",
              "    .dataframe tbody tr th {\n",
              "        vertical-align: top;\n",
              "    }\n",
              "\n",
              "    .dataframe thead th {\n",
              "        text-align: right;\n",
              "    }\n",
              "</style>\n",
              "<table border=\"1\" class=\"dataframe\">\n",
              "  <thead>\n",
              "    <tr style=\"text-align: right;\">\n",
              "      <th></th>\n",
              "      <th>Limit_bal</th>\n",
              "      <th>Sep_Bill</th>\n",
              "      <th>Aug_Bill</th>\n",
              "      <th>July_Bill</th>\n",
              "      <th>June_Bill</th>\n",
              "      <th>May_Bill</th>\n",
              "      <th>Apr_Bill</th>\n",
              "      <th>Pay_Sep</th>\n",
              "      <th>Pay_Aug</th>\n",
              "      <th>Pay_July</th>\n",
              "      <th>Pay_June</th>\n",
              "      <th>Pay_May</th>\n",
              "      <th>Pay_April</th>\n",
              "    </tr>\n",
              "  </thead>\n",
              "  <tbody>\n",
              "    <tr>\n",
              "      <th>count</th>\n",
              "      <td>29965.000000</td>\n",
              "      <td>29965.000000</td>\n",
              "      <td>29965.000000</td>\n",
              "      <td>2.996500e+04</td>\n",
              "      <td>29965.000000</td>\n",
              "      <td>29965.000000</td>\n",
              "      <td>29965.000000</td>\n",
              "      <td>29965.000000</td>\n",
              "      <td>2.996500e+04</td>\n",
              "      <td>29965.000000</td>\n",
              "      <td>29965.000000</td>\n",
              "      <td>29965.000000</td>\n",
              "      <td>29965.000000</td>\n",
              "    </tr>\n",
              "    <tr>\n",
              "      <th>mean</th>\n",
              "      <td>167442.005006</td>\n",
              "      <td>51283.009778</td>\n",
              "      <td>49236.366294</td>\n",
              "      <td>4.706792e+04</td>\n",
              "      <td>43313.329885</td>\n",
              "      <td>40358.334390</td>\n",
              "      <td>38917.012281</td>\n",
              "      <td>5670.099316</td>\n",
              "      <td>5.927983e+03</td>\n",
              "      <td>5231.688837</td>\n",
              "      <td>4831.617454</td>\n",
              "      <td>4804.897047</td>\n",
              "      <td>5221.498014</td>\n",
              "    </tr>\n",
              "    <tr>\n",
              "      <th>std</th>\n",
              "      <td>129760.135222</td>\n",
              "      <td>73658.132403</td>\n",
              "      <td>71195.567392</td>\n",
              "      <td>6.937135e+04</td>\n",
              "      <td>64353.514373</td>\n",
              "      <td>60817.130623</td>\n",
              "      <td>59574.147742</td>\n",
              "      <td>16571.849467</td>\n",
              "      <td>2.305346e+04</td>\n",
              "      <td>17616.361124</td>\n",
              "      <td>15674.464538</td>\n",
              "      <td>15286.372298</td>\n",
              "      <td>17786.976864</td>\n",
              "    </tr>\n",
              "    <tr>\n",
              "      <th>min</th>\n",
              "      <td>10000.000000</td>\n",
              "      <td>-165580.000000</td>\n",
              "      <td>-69777.000000</td>\n",
              "      <td>-1.572640e+05</td>\n",
              "      <td>-170000.000000</td>\n",
              "      <td>-81334.000000</td>\n",
              "      <td>-339603.000000</td>\n",
              "      <td>0.000000</td>\n",
              "      <td>0.000000e+00</td>\n",
              "      <td>0.000000</td>\n",
              "      <td>0.000000</td>\n",
              "      <td>0.000000</td>\n",
              "      <td>0.000000</td>\n",
              "    </tr>\n",
              "    <tr>\n",
              "      <th>25%</th>\n",
              "      <td>50000.000000</td>\n",
              "      <td>3595.000000</td>\n",
              "      <td>3010.000000</td>\n",
              "      <td>2.711000e+03</td>\n",
              "      <td>2360.000000</td>\n",
              "      <td>1787.000000</td>\n",
              "      <td>1262.000000</td>\n",
              "      <td>1000.000000</td>\n",
              "      <td>8.500000e+02</td>\n",
              "      <td>390.000000</td>\n",
              "      <td>300.000000</td>\n",
              "      <td>261.000000</td>\n",
              "      <td>131.000000</td>\n",
              "    </tr>\n",
              "    <tr>\n",
              "      <th>50%</th>\n",
              "      <td>140000.000000</td>\n",
              "      <td>22438.000000</td>\n",
              "      <td>21295.000000</td>\n",
              "      <td>2.013500e+04</td>\n",
              "      <td>19081.000000</td>\n",
              "      <td>18130.000000</td>\n",
              "      <td>17124.000000</td>\n",
              "      <td>2102.000000</td>\n",
              "      <td>2.010000e+03</td>\n",
              "      <td>1804.000000</td>\n",
              "      <td>1500.000000</td>\n",
              "      <td>1500.000000</td>\n",
              "      <td>1500.000000</td>\n",
              "    </tr>\n",
              "    <tr>\n",
              "      <th>75%</th>\n",
              "      <td>240000.000000</td>\n",
              "      <td>67260.000000</td>\n",
              "      <td>64109.000000</td>\n",
              "      <td>6.020100e+04</td>\n",
              "      <td>54601.000000</td>\n",
              "      <td>50247.000000</td>\n",
              "      <td>49252.000000</td>\n",
              "      <td>5008.000000</td>\n",
              "      <td>5.000000e+03</td>\n",
              "      <td>4512.000000</td>\n",
              "      <td>4016.000000</td>\n",
              "      <td>4042.000000</td>\n",
              "      <td>4000.000000</td>\n",
              "    </tr>\n",
              "    <tr>\n",
              "      <th>max</th>\n",
              "      <td>1000000.000000</td>\n",
              "      <td>964511.000000</td>\n",
              "      <td>983931.000000</td>\n",
              "      <td>1.664089e+06</td>\n",
              "      <td>891586.000000</td>\n",
              "      <td>927171.000000</td>\n",
              "      <td>961664.000000</td>\n",
              "      <td>873552.000000</td>\n",
              "      <td>1.684259e+06</td>\n",
              "      <td>896040.000000</td>\n",
              "      <td>621000.000000</td>\n",
              "      <td>426529.000000</td>\n",
              "      <td>528666.000000</td>\n",
              "    </tr>\n",
              "  </tbody>\n",
              "</table>\n",
              "</div>"
            ],
            "text/plain": [
              "            Limit_bal       Sep_Bill  ...        Pay_May      Pay_April\n",
              "count    29965.000000   29965.000000  ...   29965.000000   29965.000000\n",
              "mean    167442.005006   51283.009778  ...    4804.897047    5221.498014\n",
              "std     129760.135222   73658.132403  ...   15286.372298   17786.976864\n",
              "min      10000.000000 -165580.000000  ...       0.000000       0.000000\n",
              "25%      50000.000000    3595.000000  ...     261.000000     131.000000\n",
              "50%     140000.000000   22438.000000  ...    1500.000000    1500.000000\n",
              "75%     240000.000000   67260.000000  ...    4042.000000    4000.000000\n",
              "max    1000000.000000  964511.000000  ...  426529.000000  528666.000000\n",
              "\n",
              "[8 rows x 13 columns]"
            ]
          },
          "metadata": {},
          "execution_count": 46
        }
      ]
    },
    {
      "cell_type": "code",
      "metadata": {
        "id": "abDW9FsD1O-_",
        "colab": {
          "base_uri": "https://localhost:8080/",
          "height": 320
        },
        "outputId": "0cf8d0ba-c75e-4d45-a6ce-c276a41140a6"
      },
      "source": [
        "num.describe()"
      ],
      "execution_count": null,
      "outputs": [
        {
          "output_type": "execute_result",
          "data": {
            "text/html": [
              "<div>\n",
              "<style scoped>\n",
              "    .dataframe tbody tr th:only-of-type {\n",
              "        vertical-align: middle;\n",
              "    }\n",
              "\n",
              "    .dataframe tbody tr th {\n",
              "        vertical-align: top;\n",
              "    }\n",
              "\n",
              "    .dataframe thead th {\n",
              "        text-align: right;\n",
              "    }\n",
              "</style>\n",
              "<table border=\"1\" class=\"dataframe\">\n",
              "  <thead>\n",
              "    <tr style=\"text-align: right;\">\n",
              "      <th></th>\n",
              "      <th>Limit_bal</th>\n",
              "      <th>Sep_Bill</th>\n",
              "      <th>Aug_Bill</th>\n",
              "      <th>July_Bill</th>\n",
              "      <th>June_Bill</th>\n",
              "      <th>May_Bill</th>\n",
              "      <th>Apr_Bill</th>\n",
              "      <th>Pay_Sep</th>\n",
              "      <th>Pay_Aug</th>\n",
              "      <th>Pay_July</th>\n",
              "      <th>Pay_June</th>\n",
              "      <th>Pay_May</th>\n",
              "      <th>Pay_April</th>\n",
              "    </tr>\n",
              "  </thead>\n",
              "  <tbody>\n",
              "    <tr>\n",
              "      <th>count</th>\n",
              "      <td>26991.000000</td>\n",
              "      <td>26991.000000</td>\n",
              "      <td>26991.000000</td>\n",
              "      <td>26991.000000</td>\n",
              "      <td>26991.000000</td>\n",
              "      <td>26991.000000</td>\n",
              "      <td>26991.000000</td>\n",
              "      <td>26991.000000</td>\n",
              "      <td>2.699100e+04</td>\n",
              "      <td>26991.000000</td>\n",
              "      <td>26991.000000</td>\n",
              "      <td>26991.000000</td>\n",
              "      <td>26991.000000</td>\n",
              "    </tr>\n",
              "    <tr>\n",
              "      <th>mean</th>\n",
              "      <td>155743.384091</td>\n",
              "      <td>46103.224149</td>\n",
              "      <td>44241.509651</td>\n",
              "      <td>42064.041792</td>\n",
              "      <td>38520.454263</td>\n",
              "      <td>34160.970694</td>\n",
              "      <td>33508.067986</td>\n",
              "      <td>4706.621578</td>\n",
              "      <td>4.755770e+03</td>\n",
              "      <td>4108.257308</td>\n",
              "      <td>1964.678115</td>\n",
              "      <td>3857.144789</td>\n",
              "      <td>4197.893001</td>\n",
              "    </tr>\n",
              "    <tr>\n",
              "      <th>std</th>\n",
              "      <td>122122.704561</td>\n",
              "      <td>62772.004827</td>\n",
              "      <td>60163.927508</td>\n",
              "      <td>57692.497915</td>\n",
              "      <td>52916.045768</td>\n",
              "      <td>48658.725913</td>\n",
              "      <td>47943.662135</td>\n",
              "      <td>13517.607026</td>\n",
              "      <td>1.728985e+04</td>\n",
              "      <td>13240.578080</td>\n",
              "      <td>2172.473322</td>\n",
              "      <td>13158.437628</td>\n",
              "      <td>15458.663057</td>\n",
              "    </tr>\n",
              "    <tr>\n",
              "      <th>min</th>\n",
              "      <td>10000.000000</td>\n",
              "      <td>-154973.000000</td>\n",
              "      <td>-69777.000000</td>\n",
              "      <td>-157264.000000</td>\n",
              "      <td>-50616.000000</td>\n",
              "      <td>-53007.000000</td>\n",
              "      <td>-339603.000000</td>\n",
              "      <td>0.000000</td>\n",
              "      <td>0.000000e+00</td>\n",
              "      <td>0.000000</td>\n",
              "      <td>0.000000</td>\n",
              "      <td>0.000000</td>\n",
              "      <td>0.000000</td>\n",
              "    </tr>\n",
              "    <tr>\n",
              "      <th>25%</th>\n",
              "      <td>50000.000000</td>\n",
              "      <td>3213.000000</td>\n",
              "      <td>2644.500000</td>\n",
              "      <td>2360.000000</td>\n",
              "      <td>2000.000000</td>\n",
              "      <td>1200.000000</td>\n",
              "      <td>938.000000</td>\n",
              "      <td>780.000000</td>\n",
              "      <td>6.640000e+02</td>\n",
              "      <td>335.000000</td>\n",
              "      <td>89.000000</td>\n",
              "      <td>144.000000</td>\n",
              "      <td>0.000000</td>\n",
              "    </tr>\n",
              "    <tr>\n",
              "      <th>50%</th>\n",
              "      <td>130000.000000</td>\n",
              "      <td>21027.000000</td>\n",
              "      <td>20344.000000</td>\n",
              "      <td>19560.000000</td>\n",
              "      <td>18670.000000</td>\n",
              "      <td>15877.000000</td>\n",
              "      <td>15515.000000</td>\n",
              "      <td>2000.000000</td>\n",
              "      <td>2.000000e+03</td>\n",
              "      <td>1600.000000</td>\n",
              "      <td>1132.000000</td>\n",
              "      <td>1320.000000</td>\n",
              "      <td>1250.000000</td>\n",
              "    </tr>\n",
              "    <tr>\n",
              "      <th>75%</th>\n",
              "      <td>220000.000000</td>\n",
              "      <td>61935.500000</td>\n",
              "      <td>59834.000000</td>\n",
              "      <td>56277.000000</td>\n",
              "      <td>50496.000000</td>\n",
              "      <td>46676.000000</td>\n",
              "      <td>45997.500000</td>\n",
              "      <td>4573.500000</td>\n",
              "      <td>4.294500e+03</td>\n",
              "      <td>3799.500000</td>\n",
              "      <td>3000.000000</td>\n",
              "      <td>3400.000000</td>\n",
              "      <td>3386.500000</td>\n",
              "    </tr>\n",
              "    <tr>\n",
              "      <th>max</th>\n",
              "      <td>800000.000000</td>\n",
              "      <td>746814.000000</td>\n",
              "      <td>581775.000000</td>\n",
              "      <td>855086.000000</td>\n",
              "      <td>572805.000000</td>\n",
              "      <td>823540.000000</td>\n",
              "      <td>501370.000000</td>\n",
              "      <td>493358.000000</td>\n",
              "      <td>1.227082e+06</td>\n",
              "      <td>417588.000000</td>\n",
              "      <td>9665.000000</td>\n",
              "      <td>388071.000000</td>\n",
              "      <td>528666.000000</td>\n",
              "    </tr>\n",
              "  </tbody>\n",
              "</table>\n",
              "</div>"
            ],
            "text/plain": [
              "           Limit_bal       Sep_Bill  ...        Pay_May      Pay_April\n",
              "count   26991.000000   26991.000000  ...   26991.000000   26991.000000\n",
              "mean   155743.384091   46103.224149  ...    3857.144789    4197.893001\n",
              "std    122122.704561   62772.004827  ...   13158.437628   15458.663057\n",
              "min     10000.000000 -154973.000000  ...       0.000000       0.000000\n",
              "25%     50000.000000    3213.000000  ...     144.000000       0.000000\n",
              "50%    130000.000000   21027.000000  ...    1320.000000    1250.000000\n",
              "75%    220000.000000   61935.500000  ...    3400.000000    3386.500000\n",
              "max    800000.000000  746814.000000  ...  388071.000000  528666.000000\n",
              "\n",
              "[8 rows x 13 columns]"
            ]
          },
          "metadata": {},
          "execution_count": 47
        }
      ]
    },
    {
      "cell_type": "code",
      "metadata": {
        "id": "5M3C1mSxrwcW",
        "colab": {
          "base_uri": "https://localhost:8080/",
          "height": 1000
        },
        "outputId": "999c3d67-64c8-47c1-fc82-7a92e1f86ae6"
      },
      "source": [
        "for i in num.columns:\n",
        "  sns.boxplot(num[i])\n",
        "  plt.show()"
      ],
      "execution_count": null,
      "outputs": [
        {
          "output_type": "display_data",
          "data": {
            "image/png": "[encoded data removed]",
            "text/plain": [
              "<Figure size 432x288 with 1 Axes>"
            ]
          },
          "metadata": {
            "needs_background": "light"
          }
        },
        {
          "output_type": "display_data",
          "data": {
            "image/png": "[encoded data removed]",
            "text/plain": [
              "<Figure size 432x288 with 1 Axes>"
            ]
          },
          "metadata": {
            "needs_background": "light"
          }
        },
        {
          "output_type": "display_data",
          "data": {
            "image/png": "[encoded data removed]",
            "text/plain": [
              "<Figure size 432x288 with 1 Axes>"
            ]
          },
          "metadata": {
            "needs_background": "light"
          }
        },
        {
          "output_type": "display_data",
          "data": {
            "image/png": "[encoded data removed]",
            "text/plain": [
              "<Figure size 432x288 with 1 Axes>"
            ]
          },
          "metadata": {
            "needs_background": "light"
          }
        },
        {
          "output_type": "display_data",
          "data": {
            "image/png": "[encoded data removed]",
            "text/plain": [
              "<Figure size 432x288 with 1 Axes>"
            ]
          },
          "metadata": {
            "needs_background": "light"
          }
        },
        {
          "output_type": "display_data",
          "data": {
            "image/png": "[encoded data removed]",
            "text/plain": [
              "<Figure size 432x288 with 1 Axes>"
            ]
          },
          "metadata": {
            "needs_background": "light"
          }
        },
        {
          "output_type": "display_data",
          "data": {
            "image/png": "[encoded data removed]",
            "text/plain": [
              "<Figure size 432x288 with 1 Axes>"
            ]
          },
          "metadata": {
            "needs_background": "light"
          }
        },
        {
          "output_type": "display_data",
          "data": {
            "image/png": "[encoded data removed]",
            "text/plain": [
              "<Figure size 432x288 with 1 Axes>"
            ]
          },
          "metadata": {
            "needs_background": "light"
          }
        },
        {
          "output_type": "display_data",
          "data": {
            "image/png": "[encoded data removed]",
            "text/plain": [
              "<Figure size 432x288 with 1 Axes>"
            ]
          },
          "metadata": {
            "needs_background": "light"
          }
        },
        {
          "output_type": "display_data",
          "data": {
            "image/png": "[encoded data removed]",
            "text/plain": [
              "<Figure size 432x288 with 1 Axes>"
            ]
          },
          "metadata": {
            "needs_background": "light"
          }
        },
        {
          "output_type": "display_data",
          "data": {
            "image/png": "[encoded data removed]",
            "text/plain": [
              "<Figure size 432x288 with 1 Axes>"
            ]
          },
          "metadata": {
            "needs_background": "light"
          }
        },
        {
          "output_type": "display_data",
          "data": {
            "image/png": "[encoded data removed]",
            "text/plain": [
              "<Figure size 432x288 with 1 Axes>"
            ]
          },
          "metadata": {
            "needs_background": "light"
          }
        },
        {
          "output_type": "display_data",
          "data": {
            "image/png": "[encoded data removed]",
            "text/plain": [
              "<Figure size 432x288 with 1 Axes>"
            ]
          },
          "metadata": {
            "needs_background": "light"
          }
        }
      ]
    },
    {
      "cell_type": "code",
      "metadata": {
        "colab": {
          "base_uri": "https://localhost:8080/",
          "height": 297
        },
        "id": "tvIwgmLIrwZz",
        "outputId": "0f328e7e-a659-4f8e-d20d-d40718468602"
      },
      "source": [
        "sns.pointplot(df['Repayment_April'],df['Defaulter'])"
      ],
      "execution_count": null,
      "outputs": [
        {
          "output_type": "execute_result",
          "data": {
            "text/plain": [
              "<matplotlib.axes._subplots.AxesSubplot at 0x7fe489521ad0>"
            ]
          },
          "metadata": {},
          "execution_count": 49
        },
        {
          "output_type": "display_data",
          "data": {
            "image/png": "[encoded data removed]",
            "text/plain": [
              "<Figure size 432x288 with 1 Axes>"
            ]
          },
          "metadata": {
            "needs_background": "light"
          }
        }
      ]
    },
    {
      "cell_type": "code",
      "metadata": {
        "id": "wCbqSLourwXX"
      },
      "source": [
        ""
      ],
      "execution_count": null,
      "outputs": []
    },
    {
      "cell_type": "code",
      "metadata": {
        "id": "FdAYZZORrwU1"
      },
      "source": [
        ""
      ],
      "execution_count": null,
      "outputs": []
    },
    {
      "cell_type": "code",
      "metadata": {
        "id": "tr982QnOrwSM"
      },
      "source": [
        ""
      ],
      "execution_count": null,
      "outputs": []
    },
    {
      "cell_type": "code",
      "metadata": {
        "id": "xG3cc-kyrwP7"
      },
      "source": [
        ""
      ],
      "execution_count": null,
      "outputs": []
    },
    {
      "cell_type": "code",
      "metadata": {
        "id": "VHN2pBcNrwMq"
      },
      "source": [
        ""
      ],
      "execution_count": null,
      "outputs": []
    },
    {
      "cell_type": "code",
      "metadata": {
        "id": "arh38JE76Rs4"
      },
      "source": [
        ""
      ],
      "execution_count": null,
      "outputs": []
    },
    {
      "cell_type": "code",
      "metadata": {
        "id": "PXYchiH1ZVXr"
      },
      "source": [
        "X =new_df.drop(columns=['Defaulter'])\n",
        "y =new_df['Defaulter']"
      ],
      "execution_count": null,
      "outputs": []
    },
    {
      "cell_type": "code",
      "metadata": {
        "id": "lwsa9t3M5u-B"
      },
      "source": [
        ""
      ],
      "execution_count": null,
      "outputs": []
    },
    {
      "cell_type": "code",
      "metadata": {
        "id": "mLS08y17WYuV",
        "colab": {
          "base_uri": "https://localhost:8080/"
        },
        "outputId": "3c94def9-a4dd-41fc-a306-7b34e37d20c6"
      },
      "source": [
        "#importing SMote to make our dataset balanced\n",
        "from imblearn.over_sampling import SMOTE\n",
        "\n",
        "smote = SMOTE()\n",
        "\n",
        "# fit predictor and target variable\n",
        "X_smote, y_smote = smote.fit_resample(X,y)\n",
        "\n",
        "print('Original dataset shape', len(df))\n",
        "print('Resampled dataset shape', len(y_smote))"
      ],
      "execution_count": null,
      "outputs": [
        {
          "output_type": "stream",
          "name": "stderr",
          "text": [
            "/usr/local/lib/python3.7/dist-packages/sklearn/externals/six.py:31: FutureWarning: The module is deprecated in version 0.21 and will be removed in version 0.23 since we've dropped support for Python 2.7. Please rely on the official version of six (https://pypi.org/project/six/).\n",
            "  \"(https://pypi.org/project/six/).\", FutureWarning)\n",
            "/usr/local/lib/python3.7/dist-packages/sklearn/utils/deprecation.py:144: FutureWarning: The sklearn.neighbors.base module is  deprecated in version 0.22 and will be removed in version 0.24. The corresponding classes / functions should instead be imported from sklearn.neighbors. Anything that cannot be imported from sklearn.neighbors is now part of the private API.\n",
            "  warnings.warn(message, FutureWarning)\n",
            "/usr/local/lib/python3.7/dist-packages/sklearn/utils/deprecation.py:87: FutureWarning: Function safe_indexing is deprecated; safe_indexing is deprecated in version 0.22 and will be removed in version 0.24.\n",
            "  warnings.warn(msg, category=FutureWarning)\n"
          ]
        },
        {
          "output_type": "stream",
          "name": "stdout",
          "text": [
            "Original dataset shape 29965\n",
            "Resampled dataset shape 46670\n"
          ]
        }
      ]
    },
    {
      "cell_type": "code",
      "metadata": {
        "id": "IWt-5Ov4y9qC"
      },
      "source": [
        "from sklearn.model_selection import train_test_split\n",
        "X_train,X_test,y_train,y_test = train_test_split(X,y,test_size=0.2,random_state=0)"
      ],
      "execution_count": null,
      "outputs": []
    },
    {
      "cell_type": "code",
      "metadata": {
        "id": "ycJRfKj0wmS4"
      },
      "source": [
        "#Scaling\n",
        "from sklearn.preprocessing import StandardScaler\n",
        "sc = StandardScaler()\n",
        "X_train = sc.fit_transform(X_train)\n",
        "X_test = sc.fit_transform(X_test)"
      ],
      "execution_count": null,
      "outputs": []
    },
    {
      "cell_type": "code",
      "metadata": {
        "id": "Wc4J7clRwmKx"
      },
      "source": [
        "from sklearn.linear_model import LogisticRegression\n",
        "from sklearn.neighbors import KNeighborsClassifier\n",
        "from sklearn.svm import SVC\n",
        "from sklearn.naive_bayes import GaussianNB\n",
        "# from sklearn.tree import DecisionTreeClassifier\n",
        "# from sklearn.ensemble import RandomForestClassifier,AdaBoostClassifier,GradientBoostingClassifier\n",
        "from sklearn.metrics import accuracy_score,precision_score,recall_score,f1_score\n",
        "from sklearn.model_selection import cross_val_score\n",
        "from xgboost import XGBClassifier\n",
        "\n",
        "def fit_and_score(x_train,x_test,y_train,y_test,X,y):\n",
        "  log = LogisticRegression(random_state=0)\n",
        "  knn =KNeighborsClassifier(n_neighbors = 5,metric='minkowski',p=2)\n",
        "  svc = SVC(kernel='linear',random_state=0)\n",
        "  svc_rbf = SVC(kernel='rbf',random_state=0)\n",
        "  gauss = GaussianNB()\n",
        "  # tree = DecisionTreeClassifier(max_depth=10)\n",
        "  # forest = RandomForestClassifier(n_estimators=500,random_state=0)\n",
        "  # ada_boost = AdaBoostClassifier(base_estimator=forest)\n",
        "  # gradient =GradientBoostingClassifier()\n",
        "  xgboost = XGBClassifier()\n",
        "  model = [log,knn,svc,svc_rbf,gauss,xgboost]\n",
        "  train_score = []\n",
        "  test_score = []\n",
        "  Precision_score = []\n",
        "  Recall_score = []\n",
        "  F1_score = []\n",
        "\n",
        "\n",
        "  for i in model:\n",
        "    i.fit(x_train,y_train)\n",
        "    train_score.append(i.score(x_train,y_train))\n",
        "    pred = i.predict(x_test)\n",
        "    test_score.append(accuracy_score(y_test,pred))\n",
        "    Precision_score.append(precision_score(y_test,pred),\n",
        "    Recall_score.append(recall_score(y_test,pred)),\n",
        "    F1_score.append(f1_score(y_test,pred)),\n",
        "\n",
        "  # cv_score=[]\n",
        "  # for i in model:\n",
        "  #   cv =np.mean(cross_val_score(i,X,y,cv=10,scoring='accuracy'))\n",
        "  #   cv_score.append(cv)\n",
        "    \n",
        "  \n",
        "\n",
        "  scores= pd.DataFrame(list(zip(train_score,test_score)),index=['Logistic','KNeighbors','SVC Linear','SVC rbf','GaussianNB','Xg boost'],columns=['Train_score','Test_score'])\n",
        "  return scores\n",
        "\n",
        "\n"
      ],
      "execution_count": null,
      "outputs": []
    },
    {
      "cell_type": "code",
      "metadata": {
        "id": "K2rMqdnjwmHo",
        "colab": {
          "base_uri": "https://localhost:8080/",
          "height": 235
        },
        "outputId": "5e753be0-11a2-469a-b27f-ddbd7d7dd6ab"
      },
      "source": [
        "fit_and_score(X_train,X_test,y_train,y_test,X,y)"
      ],
      "execution_count": null,
      "outputs": [
        {
          "output_type": "execute_result",
          "data": {
            "text/html": [
              "<div>\n",
              "<style scoped>\n",
              "    .dataframe tbody tr th:only-of-type {\n",
              "        vertical-align: middle;\n",
              "    }\n",
              "\n",
              "    .dataframe tbody tr th {\n",
              "        vertical-align: top;\n",
              "    }\n",
              "\n",
              "    .dataframe thead th {\n",
              "        text-align: right;\n",
              "    }\n",
              "</style>\n",
              "<table border=\"1\" class=\"dataframe\">\n",
              "  <thead>\n",
              "    <tr style=\"text-align: right;\">\n",
              "      <th></th>\n",
              "      <th>Train_score</th>\n",
              "      <th>Test_score</th>\n",
              "    </tr>\n",
              "  </thead>\n",
              "  <tbody>\n",
              "    <tr>\n",
              "      <th>Logistic</th>\n",
              "      <td>0.818705</td>\n",
              "      <td>0.820290</td>\n",
              "    </tr>\n",
              "    <tr>\n",
              "      <th>KNeighbors</th>\n",
              "      <td>0.841941</td>\n",
              "      <td>0.786918</td>\n",
              "    </tr>\n",
              "    <tr>\n",
              "      <th>SVC Linear</th>\n",
              "      <td>0.818246</td>\n",
              "      <td>0.822126</td>\n",
              "    </tr>\n",
              "    <tr>\n",
              "      <th>SVC rbf</th>\n",
              "      <td>0.827632</td>\n",
              "      <td>0.820290</td>\n",
              "    </tr>\n",
              "    <tr>\n",
              "      <th>GaussianNB</th>\n",
              "      <td>0.762056</td>\n",
              "      <td>0.757384</td>\n",
              "    </tr>\n",
              "    <tr>\n",
              "      <th>Xg boost</th>\n",
              "      <td>0.825213</td>\n",
              "      <td>0.820457</td>\n",
              "    </tr>\n",
              "  </tbody>\n",
              "</table>\n",
              "</div>"
            ],
            "text/plain": [
              "            Train_score  Test_score\n",
              "Logistic       0.818705    0.820290\n",
              "KNeighbors     0.841941    0.786918\n",
              "SVC Linear     0.818246    0.822126\n",
              "SVC rbf        0.827632    0.820290\n",
              "GaussianNB     0.762056    0.757384\n",
              "Xg boost       0.825213    0.820457"
            ]
          },
          "metadata": {},
          "execution_count": 74
        }
      ]
    },
    {
      "cell_type": "code",
      "metadata": {
        "id": "HrAKw-Brbg_-"
      },
      "source": [
        "lr=LogisticRegression().fit(X_train,y_train)"
      ],
      "execution_count": null,
      "outputs": []
    },
    {
      "cell_type": "code",
      "metadata": {
        "id": "gwMmSE3mwoIE"
      },
      "source": [
        "pr = lr.predict(X_test)"
      ],
      "execution_count": null,
      "outputs": []
    },
    {
      "cell_type": "code",
      "metadata": {
        "id": "WY_Ozb-7wsbL"
      },
      "source": [
        "accuracy_score(y_test,pr)"
      ],
      "execution_count": null,
      "outputs": []
    },
    {
      "cell_type": "code",
      "metadata": {
        "id": "VGGVzWXrwxfb"
      },
      "source": [
        "round(precision_score(y_test,pr),4)"
      ],
      "execution_count": null,
      "outputs": []
    },
    {
      "cell_type": "code",
      "metadata": {
        "id": "mOpkUBp902SN"
      },
      "source": [
        "a=[]"
      ],
      "execution_count": null,
      "outputs": []
    },
    {
      "cell_type": "code",
      "metadata": {
        "id": "3jZcsWX9w0ij"
      },
      "source": [
        "a.append(recall_score(y_test,pr))"
      ],
      "execution_count": null,
      "outputs": []
    },
    {
      "cell_type": "code",
      "metadata": {
        "id": "hkDr1MbF0xX5"
      },
      "source": [
        "a"
      ],
      "execution_count": null,
      "outputs": []
    },
    {
      "cell_type": "code",
      "metadata": {
        "id": "8_wx0-OO070A"
      },
      "source": [
        ""
      ],
      "execution_count": null,
      "outputs": []
    }
  ]
}